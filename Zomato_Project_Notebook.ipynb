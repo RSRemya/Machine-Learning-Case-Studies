{
 "cells": [
  {
   "cell_type": "markdown",
   "id": "eaa49b2e-4039-486b-a841-a4b96e73dca6",
   "metadata": {},
   "source": [
    "# Restaurant Rating Prediction - (Zomato,Bangalore)"
   ]
  },
  {
   "cell_type": "markdown",
   "id": "8a0bc835-5d48-4aeb-bd4a-c0c3ef6de435",
   "metadata": {},
   "source": [
    "## Contributors - Abhinav Singh, Antima Jain, Khushi Shukla, Remya RS"
   ]
  },
  {
   "cell_type": "markdown",
   "id": "9c9ea698-ab7f-4a7a-99ba-a079760a544d",
   "metadata": {},
   "source": [
    "### Data Cleaning"
   ]
  },
  {
   "cell_type": "markdown",
   "id": "d8d9378f-dde6-49f7-a207-cc1ac46b421b",
   "metadata": {},
   "source": [
    "#### Importing Libraries"
   ]
  },
  {
   "cell_type": "code",
   "execution_count": 1,
   "id": "a058c4d3-d6c3-4548-874f-2a6ec865978b",
   "metadata": {},
   "outputs": [],
   "source": [
    "import pandas as pd\n",
    "import numpy as np\n",
    "import re\n",
    "import seaborn as sns\n",
    "import matplotlib.pyplot as plt \n",
    "%matplotlib inline"
   ]
  },
  {
   "cell_type": "markdown",
   "id": "b275a5b3-3206-483c-bd9b-d7fdd4908da3",
   "metadata": {},
   "source": [
    "#### Importing Dataset"
   ]
  },
  {
   "cell_type": "code",
   "execution_count": 2,
   "id": "5730d8bd-9782-4407-aa5f-9c4f86417701",
   "metadata": {},
   "outputs": [
    {
     "data": {
      "text/html": [
       "<div>\n",
       "<style scoped>\n",
       "    .dataframe tbody tr th:only-of-type {\n",
       "        vertical-align: middle;\n",
       "    }\n",
       "\n",
       "    .dataframe tbody tr th {\n",
       "        vertical-align: top;\n",
       "    }\n",
       "\n",
       "    .dataframe thead th {\n",
       "        text-align: right;\n",
       "    }\n",
       "</style>\n",
       "<table border=\"1\" class=\"dataframe\">\n",
       "  <thead>\n",
       "    <tr style=\"text-align: right;\">\n",
       "      <th></th>\n",
       "      <th>url</th>\n",
       "      <th>address</th>\n",
       "      <th>name</th>\n",
       "      <th>online_order</th>\n",
       "      <th>book_table</th>\n",
       "      <th>rate</th>\n",
       "      <th>votes</th>\n",
       "      <th>phone</th>\n",
       "      <th>location</th>\n",
       "      <th>rest_type</th>\n",
       "      <th>dish_liked</th>\n",
       "      <th>cuisines</th>\n",
       "      <th>approx_cost(for two people)</th>\n",
       "      <th>reviews_list</th>\n",
       "      <th>menu_item</th>\n",
       "      <th>listed_in(type)</th>\n",
       "      <th>listed_in(city)</th>\n",
       "    </tr>\n",
       "  </thead>\n",
       "  <tbody>\n",
       "    <tr>\n",
       "      <th>0</th>\n",
       "      <td>https://www.zomato.com/bangalore/jalsa-banasha...</td>\n",
       "      <td>942, 21st Main Road, 2nd Stage, Banashankari, ...</td>\n",
       "      <td>Jalsa</td>\n",
       "      <td>Yes</td>\n",
       "      <td>Yes</td>\n",
       "      <td>4.1/5</td>\n",
       "      <td>775</td>\n",
       "      <td>080 42297555\\r\\n+91 9743772233</td>\n",
       "      <td>Banashankari</td>\n",
       "      <td>Casual Dining</td>\n",
       "      <td>Pasta, Lunch Buffet, Masala Papad, Paneer Laja...</td>\n",
       "      <td>North Indian, Mughlai, Chinese</td>\n",
       "      <td>800</td>\n",
       "      <td>[('Rated 4.0', 'RATED\\n  A beautiful place to ...</td>\n",
       "      <td>[]</td>\n",
       "      <td>Buffet</td>\n",
       "      <td>Banashankari</td>\n",
       "    </tr>\n",
       "    <tr>\n",
       "      <th>1</th>\n",
       "      <td>https://www.zomato.com/bangalore/spice-elephan...</td>\n",
       "      <td>2nd Floor, 80 Feet Road, Near Big Bazaar, 6th ...</td>\n",
       "      <td>Spice Elephant</td>\n",
       "      <td>Yes</td>\n",
       "      <td>No</td>\n",
       "      <td>4.1/5</td>\n",
       "      <td>787</td>\n",
       "      <td>080 41714161</td>\n",
       "      <td>Banashankari</td>\n",
       "      <td>Casual Dining</td>\n",
       "      <td>Momos, Lunch Buffet, Chocolate Nirvana, Thai G...</td>\n",
       "      <td>Chinese, North Indian, Thai</td>\n",
       "      <td>800</td>\n",
       "      <td>[('Rated 4.0', 'RATED\\n  Had been here for din...</td>\n",
       "      <td>[]</td>\n",
       "      <td>Buffet</td>\n",
       "      <td>Banashankari</td>\n",
       "    </tr>\n",
       "    <tr>\n",
       "      <th>2</th>\n",
       "      <td>https://www.zomato.com/SanchurroBangalore?cont...</td>\n",
       "      <td>1112, Next to KIMS Medical College, 17th Cross...</td>\n",
       "      <td>San Churro Cafe</td>\n",
       "      <td>Yes</td>\n",
       "      <td>No</td>\n",
       "      <td>3.8/5</td>\n",
       "      <td>918</td>\n",
       "      <td>+91 9663487993</td>\n",
       "      <td>Banashankari</td>\n",
       "      <td>Cafe, Casual Dining</td>\n",
       "      <td>Churros, Cannelloni, Minestrone Soup, Hot Choc...</td>\n",
       "      <td>Cafe, Mexican, Italian</td>\n",
       "      <td>800</td>\n",
       "      <td>[('Rated 3.0', \"RATED\\n  Ambience is not that ...</td>\n",
       "      <td>[]</td>\n",
       "      <td>Buffet</td>\n",
       "      <td>Banashankari</td>\n",
       "    </tr>\n",
       "    <tr>\n",
       "      <th>3</th>\n",
       "      <td>https://www.zomato.com/bangalore/addhuri-udupi...</td>\n",
       "      <td>1st Floor, Annakuteera, 3rd Stage, Banashankar...</td>\n",
       "      <td>Addhuri Udupi Bhojana</td>\n",
       "      <td>No</td>\n",
       "      <td>No</td>\n",
       "      <td>3.7/5</td>\n",
       "      <td>88</td>\n",
       "      <td>+91 9620009302</td>\n",
       "      <td>Banashankari</td>\n",
       "      <td>Quick Bites</td>\n",
       "      <td>Masala Dosa</td>\n",
       "      <td>South Indian, North Indian</td>\n",
       "      <td>300</td>\n",
       "      <td>[('Rated 4.0', \"RATED\\n  Great food and proper...</td>\n",
       "      <td>[]</td>\n",
       "      <td>Buffet</td>\n",
       "      <td>Banashankari</td>\n",
       "    </tr>\n",
       "    <tr>\n",
       "      <th>4</th>\n",
       "      <td>https://www.zomato.com/bangalore/grand-village...</td>\n",
       "      <td>10, 3rd Floor, Lakshmi Associates, Gandhi Baza...</td>\n",
       "      <td>Grand Village</td>\n",
       "      <td>No</td>\n",
       "      <td>No</td>\n",
       "      <td>3.8/5</td>\n",
       "      <td>166</td>\n",
       "      <td>+91 8026612447\\r\\n+91 9901210005</td>\n",
       "      <td>Basavanagudi</td>\n",
       "      <td>Casual Dining</td>\n",
       "      <td>Panipuri, Gol Gappe</td>\n",
       "      <td>North Indian, Rajasthani</td>\n",
       "      <td>600</td>\n",
       "      <td>[('Rated 4.0', 'RATED\\n  Very good restaurant ...</td>\n",
       "      <td>[]</td>\n",
       "      <td>Buffet</td>\n",
       "      <td>Banashankari</td>\n",
       "    </tr>\n",
       "  </tbody>\n",
       "</table>\n",
       "</div>"
      ],
      "text/plain": [
       "                                                 url  \\\n",
       "0  https://www.zomato.com/bangalore/jalsa-banasha...   \n",
       "1  https://www.zomato.com/bangalore/spice-elephan...   \n",
       "2  https://www.zomato.com/SanchurroBangalore?cont...   \n",
       "3  https://www.zomato.com/bangalore/addhuri-udupi...   \n",
       "4  https://www.zomato.com/bangalore/grand-village...   \n",
       "\n",
       "                                             address                   name  \\\n",
       "0  942, 21st Main Road, 2nd Stage, Banashankari, ...                  Jalsa   \n",
       "1  2nd Floor, 80 Feet Road, Near Big Bazaar, 6th ...         Spice Elephant   \n",
       "2  1112, Next to KIMS Medical College, 17th Cross...        San Churro Cafe   \n",
       "3  1st Floor, Annakuteera, 3rd Stage, Banashankar...  Addhuri Udupi Bhojana   \n",
       "4  10, 3rd Floor, Lakshmi Associates, Gandhi Baza...          Grand Village   \n",
       "\n",
       "  online_order book_table   rate  votes                             phone  \\\n",
       "0          Yes        Yes  4.1/5    775    080 42297555\\r\\n+91 9743772233   \n",
       "1          Yes         No  4.1/5    787                      080 41714161   \n",
       "2          Yes         No  3.8/5    918                    +91 9663487993   \n",
       "3           No         No  3.7/5     88                    +91 9620009302   \n",
       "4           No         No  3.8/5    166  +91 8026612447\\r\\n+91 9901210005   \n",
       "\n",
       "       location            rest_type  \\\n",
       "0  Banashankari        Casual Dining   \n",
       "1  Banashankari        Casual Dining   \n",
       "2  Banashankari  Cafe, Casual Dining   \n",
       "3  Banashankari          Quick Bites   \n",
       "4  Basavanagudi        Casual Dining   \n",
       "\n",
       "                                          dish_liked  \\\n",
       "0  Pasta, Lunch Buffet, Masala Papad, Paneer Laja...   \n",
       "1  Momos, Lunch Buffet, Chocolate Nirvana, Thai G...   \n",
       "2  Churros, Cannelloni, Minestrone Soup, Hot Choc...   \n",
       "3                                        Masala Dosa   \n",
       "4                                Panipuri, Gol Gappe   \n",
       "\n",
       "                         cuisines approx_cost(for two people)  \\\n",
       "0  North Indian, Mughlai, Chinese                         800   \n",
       "1     Chinese, North Indian, Thai                         800   \n",
       "2          Cafe, Mexican, Italian                         800   \n",
       "3      South Indian, North Indian                         300   \n",
       "4        North Indian, Rajasthani                         600   \n",
       "\n",
       "                                        reviews_list menu_item  \\\n",
       "0  [('Rated 4.0', 'RATED\\n  A beautiful place to ...        []   \n",
       "1  [('Rated 4.0', 'RATED\\n  Had been here for din...        []   \n",
       "2  [('Rated 3.0', \"RATED\\n  Ambience is not that ...        []   \n",
       "3  [('Rated 4.0', \"RATED\\n  Great food and proper...        []   \n",
       "4  [('Rated 4.0', 'RATED\\n  Very good restaurant ...        []   \n",
       "\n",
       "  listed_in(type) listed_in(city)  \n",
       "0          Buffet    Banashankari  \n",
       "1          Buffet    Banashankari  \n",
       "2          Buffet    Banashankari  \n",
       "3          Buffet    Banashankari  \n",
       "4          Buffet    Banashankari  "
      ]
     },
     "execution_count": 2,
     "metadata": {},
     "output_type": "execute_result"
    }
   ],
   "source": [
    "# Reading the data\n",
    "dataset=pd.read_csv('zomato.csv')\n",
    "dataset.head()"
   ]
  },
  {
   "cell_type": "code",
   "execution_count": 3,
   "id": "3cd004f7-d9da-4bdb-99fd-d2e59c57e271",
   "metadata": {},
   "outputs": [
    {
     "name": "stdout",
     "output_type": "stream",
     "text": [
      "<class 'pandas.core.frame.DataFrame'>\n",
      "RangeIndex: 51717 entries, 0 to 51716\n",
      "Data columns (total 17 columns):\n",
      " #   Column                       Non-Null Count  Dtype \n",
      "---  ------                       --------------  ----- \n",
      " 0   url                          51717 non-null  object\n",
      " 1   address                      51717 non-null  object\n",
      " 2   name                         51717 non-null  object\n",
      " 3   online_order                 51717 non-null  object\n",
      " 4   book_table                   51717 non-null  object\n",
      " 5   rate                         43942 non-null  object\n",
      " 6   votes                        51717 non-null  int64 \n",
      " 7   phone                        50509 non-null  object\n",
      " 8   location                     51696 non-null  object\n",
      " 9   rest_type                    51490 non-null  object\n",
      " 10  dish_liked                   23639 non-null  object\n",
      " 11  cuisines                     51672 non-null  object\n",
      " 12  approx_cost(for two people)  51371 non-null  object\n",
      " 13  reviews_list                 51717 non-null  object\n",
      " 14  menu_item                    51717 non-null  object\n",
      " 15  listed_in(type)              51717 non-null  object\n",
      " 16  listed_in(city)              51717 non-null  object\n",
      "dtypes: int64(1), object(16)\n",
      "memory usage: 6.7+ MB\n"
     ]
    }
   ],
   "source": [
    "dataset.info()"
   ]
  },
  {
   "cell_type": "code",
   "execution_count": 4,
   "id": "19d447eb-bdf7-4209-a87d-765a5e4ff164",
   "metadata": {},
   "outputs": [
    {
     "data": {
      "text/plain": [
       "url                             0.000000\n",
       "address                         0.000000\n",
       "name                            0.000000\n",
       "online_order                    0.000000\n",
       "book_table                      0.000000\n",
       "rate                           15.033741\n",
       "votes                           0.000000\n",
       "phone                           2.335789\n",
       "location                        0.040606\n",
       "rest_type                       0.438927\n",
       "dish_liked                     54.291626\n",
       "cuisines                        0.087012\n",
       "approx_cost(for two people)     0.669026\n",
       "reviews_list                    0.000000\n",
       "menu_item                       0.000000\n",
       "listed_in(type)                 0.000000\n",
       "listed_in(city)                 0.000000\n",
       "dtype: float64"
      ]
     },
     "execution_count": 4,
     "metadata": {},
     "output_type": "execute_result"
    }
   ],
   "source": [
    "# finding percentage of null values in each column\n",
    "null_var=dataset.isnull().sum()/dataset.shape[0] *100\n",
    "null_var"
   ]
  },
  {
   "cell_type": "markdown",
   "id": "1c1d45da-2b62-49f9-b39c-989c8114adec",
   "metadata": {},
   "source": [
    "##### As url, address and phone columns are not needed to solve our problem statement, we can simply drop them. 54% of data in dish_liked column is null, half of the data in menu_item has empty list and we can only retrieve rating from review_list which we already have so we will drop these three columns as well. We will also drop location and rest_type as they can be replaced by listed_in(type), listed_in(city) which are in proper standards"
   ]
  },
  {
   "cell_type": "code",
   "execution_count": 5,
   "id": "7c79a185-c695-4f9f-9056-2c4e4db5e4b3",
   "metadata": {},
   "outputs": [
    {
     "data": {
      "text/html": [
       "<div>\n",
       "<style scoped>\n",
       "    .dataframe tbody tr th:only-of-type {\n",
       "        vertical-align: middle;\n",
       "    }\n",
       "\n",
       "    .dataframe tbody tr th {\n",
       "        vertical-align: top;\n",
       "    }\n",
       "\n",
       "    .dataframe thead th {\n",
       "        text-align: right;\n",
       "    }\n",
       "</style>\n",
       "<table border=\"1\" class=\"dataframe\">\n",
       "  <thead>\n",
       "    <tr style=\"text-align: right;\">\n",
       "      <th></th>\n",
       "      <th>name</th>\n",
       "      <th>online_order</th>\n",
       "      <th>book_table</th>\n",
       "      <th>rate</th>\n",
       "      <th>votes</th>\n",
       "      <th>cuisines</th>\n",
       "      <th>approx_cost(for two people)</th>\n",
       "      <th>listed_in(type)</th>\n",
       "      <th>listed_in(city)</th>\n",
       "    </tr>\n",
       "  </thead>\n",
       "  <tbody>\n",
       "    <tr>\n",
       "      <th>0</th>\n",
       "      <td>Jalsa</td>\n",
       "      <td>Yes</td>\n",
       "      <td>Yes</td>\n",
       "      <td>4.1/5</td>\n",
       "      <td>775</td>\n",
       "      <td>North Indian, Mughlai, Chinese</td>\n",
       "      <td>800</td>\n",
       "      <td>Buffet</td>\n",
       "      <td>Banashankari</td>\n",
       "    </tr>\n",
       "    <tr>\n",
       "      <th>1</th>\n",
       "      <td>Spice Elephant</td>\n",
       "      <td>Yes</td>\n",
       "      <td>No</td>\n",
       "      <td>4.1/5</td>\n",
       "      <td>787</td>\n",
       "      <td>Chinese, North Indian, Thai</td>\n",
       "      <td>800</td>\n",
       "      <td>Buffet</td>\n",
       "      <td>Banashankari</td>\n",
       "    </tr>\n",
       "    <tr>\n",
       "      <th>2</th>\n",
       "      <td>San Churro Cafe</td>\n",
       "      <td>Yes</td>\n",
       "      <td>No</td>\n",
       "      <td>3.8/5</td>\n",
       "      <td>918</td>\n",
       "      <td>Cafe, Mexican, Italian</td>\n",
       "      <td>800</td>\n",
       "      <td>Buffet</td>\n",
       "      <td>Banashankari</td>\n",
       "    </tr>\n",
       "    <tr>\n",
       "      <th>3</th>\n",
       "      <td>Addhuri Udupi Bhojana</td>\n",
       "      <td>No</td>\n",
       "      <td>No</td>\n",
       "      <td>3.7/5</td>\n",
       "      <td>88</td>\n",
       "      <td>South Indian, North Indian</td>\n",
       "      <td>300</td>\n",
       "      <td>Buffet</td>\n",
       "      <td>Banashankari</td>\n",
       "    </tr>\n",
       "    <tr>\n",
       "      <th>4</th>\n",
       "      <td>Grand Village</td>\n",
       "      <td>No</td>\n",
       "      <td>No</td>\n",
       "      <td>3.8/5</td>\n",
       "      <td>166</td>\n",
       "      <td>North Indian, Rajasthani</td>\n",
       "      <td>600</td>\n",
       "      <td>Buffet</td>\n",
       "      <td>Banashankari</td>\n",
       "    </tr>\n",
       "    <tr>\n",
       "      <th>...</th>\n",
       "      <td>...</td>\n",
       "      <td>...</td>\n",
       "      <td>...</td>\n",
       "      <td>...</td>\n",
       "      <td>...</td>\n",
       "      <td>...</td>\n",
       "      <td>...</td>\n",
       "      <td>...</td>\n",
       "      <td>...</td>\n",
       "    </tr>\n",
       "    <tr>\n",
       "      <th>51712</th>\n",
       "      <td>Best Brews - Four Points by Sheraton Bengaluru...</td>\n",
       "      <td>No</td>\n",
       "      <td>No</td>\n",
       "      <td>3.6 /5</td>\n",
       "      <td>27</td>\n",
       "      <td>Continental</td>\n",
       "      <td>1,500</td>\n",
       "      <td>Pubs and bars</td>\n",
       "      <td>Whitefield</td>\n",
       "    </tr>\n",
       "    <tr>\n",
       "      <th>51713</th>\n",
       "      <td>Vinod Bar And Restaurant</td>\n",
       "      <td>No</td>\n",
       "      <td>No</td>\n",
       "      <td>NaN</td>\n",
       "      <td>0</td>\n",
       "      <td>Finger Food</td>\n",
       "      <td>600</td>\n",
       "      <td>Pubs and bars</td>\n",
       "      <td>Whitefield</td>\n",
       "    </tr>\n",
       "    <tr>\n",
       "      <th>51714</th>\n",
       "      <td>Plunge - Sheraton Grand Bengaluru Whitefield H...</td>\n",
       "      <td>No</td>\n",
       "      <td>No</td>\n",
       "      <td>NaN</td>\n",
       "      <td>0</td>\n",
       "      <td>Finger Food</td>\n",
       "      <td>2,000</td>\n",
       "      <td>Pubs and bars</td>\n",
       "      <td>Whitefield</td>\n",
       "    </tr>\n",
       "    <tr>\n",
       "      <th>51715</th>\n",
       "      <td>Chime - Sheraton Grand Bengaluru Whitefield Ho...</td>\n",
       "      <td>No</td>\n",
       "      <td>Yes</td>\n",
       "      <td>4.3 /5</td>\n",
       "      <td>236</td>\n",
       "      <td>Finger Food</td>\n",
       "      <td>2,500</td>\n",
       "      <td>Pubs and bars</td>\n",
       "      <td>Whitefield</td>\n",
       "    </tr>\n",
       "    <tr>\n",
       "      <th>51716</th>\n",
       "      <td>The Nest - The Den Bengaluru</td>\n",
       "      <td>No</td>\n",
       "      <td>No</td>\n",
       "      <td>3.4 /5</td>\n",
       "      <td>13</td>\n",
       "      <td>Finger Food, North Indian, Continental</td>\n",
       "      <td>1,500</td>\n",
       "      <td>Pubs and bars</td>\n",
       "      <td>Whitefield</td>\n",
       "    </tr>\n",
       "  </tbody>\n",
       "</table>\n",
       "<p>51717 rows × 9 columns</p>\n",
       "</div>"
      ],
      "text/plain": [
       "                                                    name online_order  \\\n",
       "0                                                  Jalsa          Yes   \n",
       "1                                         Spice Elephant          Yes   \n",
       "2                                        San Churro Cafe          Yes   \n",
       "3                                  Addhuri Udupi Bhojana           No   \n",
       "4                                          Grand Village           No   \n",
       "...                                                  ...          ...   \n",
       "51712  Best Brews - Four Points by Sheraton Bengaluru...           No   \n",
       "51713                           Vinod Bar And Restaurant           No   \n",
       "51714  Plunge - Sheraton Grand Bengaluru Whitefield H...           No   \n",
       "51715  Chime - Sheraton Grand Bengaluru Whitefield Ho...           No   \n",
       "51716                       The Nest - The Den Bengaluru           No   \n",
       "\n",
       "      book_table    rate  votes                                cuisines  \\\n",
       "0            Yes   4.1/5    775          North Indian, Mughlai, Chinese   \n",
       "1             No   4.1/5    787             Chinese, North Indian, Thai   \n",
       "2             No   3.8/5    918                  Cafe, Mexican, Italian   \n",
       "3             No   3.7/5     88              South Indian, North Indian   \n",
       "4             No   3.8/5    166                North Indian, Rajasthani   \n",
       "...          ...     ...    ...                                     ...   \n",
       "51712         No  3.6 /5     27                             Continental   \n",
       "51713         No     NaN      0                             Finger Food   \n",
       "51714         No     NaN      0                             Finger Food   \n",
       "51715        Yes  4.3 /5    236                             Finger Food   \n",
       "51716         No  3.4 /5     13  Finger Food, North Indian, Continental   \n",
       "\n",
       "      approx_cost(for two people) listed_in(type) listed_in(city)  \n",
       "0                             800          Buffet    Banashankari  \n",
       "1                             800          Buffet    Banashankari  \n",
       "2                             800          Buffet    Banashankari  \n",
       "3                             300          Buffet    Banashankari  \n",
       "4                             600          Buffet    Banashankari  \n",
       "...                           ...             ...             ...  \n",
       "51712                       1,500   Pubs and bars      Whitefield  \n",
       "51713                         600   Pubs and bars      Whitefield  \n",
       "51714                       2,000   Pubs and bars      Whitefield  \n",
       "51715                       2,500   Pubs and bars      Whitefield  \n",
       "51716                       1,500   Pubs and bars      Whitefield  \n",
       "\n",
       "[51717 rows x 9 columns]"
      ]
     },
     "execution_count": 5,
     "metadata": {},
     "output_type": "execute_result"
    }
   ],
   "source": [
    "# Dropping unwanted columns\n",
    "dataset=dataset.drop(columns=[\"url\",\"address\",\"phone\",\"reviews_list\",\"location\",\"dish_liked\",\"menu_item\",\"rest_type\"])\n",
    "dataset"
   ]
  },
  {
   "cell_type": "code",
   "execution_count": 6,
   "id": "89410411-74c5-4025-9ede-b8a298bf951b",
   "metadata": {},
   "outputs": [
    {
     "data": {
      "text/html": [
       "<div>\n",
       "<style scoped>\n",
       "    .dataframe tbody tr th:only-of-type {\n",
       "        vertical-align: middle;\n",
       "    }\n",
       "\n",
       "    .dataframe tbody tr th {\n",
       "        vertical-align: top;\n",
       "    }\n",
       "\n",
       "    .dataframe thead th {\n",
       "        text-align: right;\n",
       "    }\n",
       "</style>\n",
       "<table border=\"1\" class=\"dataframe\">\n",
       "  <thead>\n",
       "    <tr style=\"text-align: right;\">\n",
       "      <th></th>\n",
       "      <th>Restaurants</th>\n",
       "      <th>online_order</th>\n",
       "      <th>book_table</th>\n",
       "      <th>Rating</th>\n",
       "      <th>votes</th>\n",
       "      <th>cuisines</th>\n",
       "      <th>Cost</th>\n",
       "      <th>rest_type</th>\n",
       "      <th>City</th>\n",
       "    </tr>\n",
       "  </thead>\n",
       "  <tbody>\n",
       "    <tr>\n",
       "      <th>0</th>\n",
       "      <td>Jalsa</td>\n",
       "      <td>Yes</td>\n",
       "      <td>Yes</td>\n",
       "      <td>4.1/5</td>\n",
       "      <td>775</td>\n",
       "      <td>North Indian, Mughlai, Chinese</td>\n",
       "      <td>800</td>\n",
       "      <td>Buffet</td>\n",
       "      <td>Banashankari</td>\n",
       "    </tr>\n",
       "    <tr>\n",
       "      <th>1</th>\n",
       "      <td>Spice Elephant</td>\n",
       "      <td>Yes</td>\n",
       "      <td>No</td>\n",
       "      <td>4.1/5</td>\n",
       "      <td>787</td>\n",
       "      <td>Chinese, North Indian, Thai</td>\n",
       "      <td>800</td>\n",
       "      <td>Buffet</td>\n",
       "      <td>Banashankari</td>\n",
       "    </tr>\n",
       "    <tr>\n",
       "      <th>2</th>\n",
       "      <td>San Churro Cafe</td>\n",
       "      <td>Yes</td>\n",
       "      <td>No</td>\n",
       "      <td>3.8/5</td>\n",
       "      <td>918</td>\n",
       "      <td>Cafe, Mexican, Italian</td>\n",
       "      <td>800</td>\n",
       "      <td>Buffet</td>\n",
       "      <td>Banashankari</td>\n",
       "    </tr>\n",
       "    <tr>\n",
       "      <th>3</th>\n",
       "      <td>Addhuri Udupi Bhojana</td>\n",
       "      <td>No</td>\n",
       "      <td>No</td>\n",
       "      <td>3.7/5</td>\n",
       "      <td>88</td>\n",
       "      <td>South Indian, North Indian</td>\n",
       "      <td>300</td>\n",
       "      <td>Buffet</td>\n",
       "      <td>Banashankari</td>\n",
       "    </tr>\n",
       "    <tr>\n",
       "      <th>4</th>\n",
       "      <td>Grand Village</td>\n",
       "      <td>No</td>\n",
       "      <td>No</td>\n",
       "      <td>3.8/5</td>\n",
       "      <td>166</td>\n",
       "      <td>North Indian, Rajasthani</td>\n",
       "      <td>600</td>\n",
       "      <td>Buffet</td>\n",
       "      <td>Banashankari</td>\n",
       "    </tr>\n",
       "  </tbody>\n",
       "</table>\n",
       "</div>"
      ],
      "text/plain": [
       "             Restaurants online_order book_table Rating  votes  \\\n",
       "0                  Jalsa          Yes        Yes  4.1/5    775   \n",
       "1         Spice Elephant          Yes         No  4.1/5    787   \n",
       "2        San Churro Cafe          Yes         No  3.8/5    918   \n",
       "3  Addhuri Udupi Bhojana           No         No  3.7/5     88   \n",
       "4          Grand Village           No         No  3.8/5    166   \n",
       "\n",
       "                         cuisines Cost rest_type          City  \n",
       "0  North Indian, Mughlai, Chinese  800    Buffet  Banashankari  \n",
       "1     Chinese, North Indian, Thai  800    Buffet  Banashankari  \n",
       "2          Cafe, Mexican, Italian  800    Buffet  Banashankari  \n",
       "3      South Indian, North Indian  300    Buffet  Banashankari  \n",
       "4        North Indian, Rajasthani  600    Buffet  Banashankari  "
      ]
     },
     "execution_count": 6,
     "metadata": {},
     "output_type": "execute_result"
    }
   ],
   "source": [
    "# Renaming the columns\n",
    "dataset.rename({\"name\":\"Restaurants\",\n",
    "           \"rate\":\"Rating\",\n",
    "           \"approx_cost(for two people)\":\"Cost\",\n",
    "           \"listed_in(type)\":\"rest_type\",\n",
    "           \"listed_in(city)\":\"City\"},inplace=True,axis=1)\n",
    "dataset.head()"
   ]
  },
  {
   "cell_type": "code",
   "execution_count": 7,
   "id": "7b89574a-3a97-4702-8b67-30afffeb5d6f",
   "metadata": {},
   "outputs": [
    {
     "data": {
      "text/plain": [
       "Restaurants        0\n",
       "online_order       0\n",
       "book_table         0\n",
       "Rating          7775\n",
       "votes              0\n",
       "cuisines          45\n",
       "Cost             346\n",
       "rest_type          0\n",
       "City               0\n",
       "dtype: int64"
      ]
     },
     "execution_count": 7,
     "metadata": {},
     "output_type": "execute_result"
    }
   ],
   "source": [
    "dataset.isnull().sum()"
   ]
  },
  {
   "cell_type": "code",
   "execution_count": 8,
   "id": "e337ab10-7ae0-485b-bf01-2de1338a790e",
   "metadata": {},
   "outputs": [],
   "source": [
    "# Dropping Duplicates\n",
    "dataset.drop_duplicates(inplace=True)"
   ]
  },
  {
   "cell_type": "code",
   "execution_count": 9,
   "id": "f8ce204a-da71-43bd-9f62-a8a58ca0d152",
   "metadata": {},
   "outputs": [
    {
     "data": {
      "text/plain": [
       "(51577, 9)"
      ]
     },
     "execution_count": 9,
     "metadata": {},
     "output_type": "execute_result"
    }
   ],
   "source": [
    "dataset.shape"
   ]
  },
  {
   "cell_type": "markdown",
   "id": "6821799f-bfa8-4b69-88d7-d44bf3a2761e",
   "metadata": {},
   "source": [
    "#### Cleaning the data for each column"
   ]
  },
  {
   "cell_type": "code",
   "execution_count": 10,
   "id": "eef18467",
   "metadata": {},
   "outputs": [
    {
     "name": "stdout",
     "output_type": "stream",
     "text": [
      "<class 'pandas.core.frame.DataFrame'>\n",
      "Int64Index: 51577 entries, 0 to 51716\n",
      "Data columns (total 9 columns):\n",
      " #   Column        Non-Null Count  Dtype \n",
      "---  ------        --------------  ----- \n",
      " 0   Restaurants   51577 non-null  object\n",
      " 1   online_order  51577 non-null  object\n",
      " 2   book_table    51577 non-null  object\n",
      " 3   Rating        43853 non-null  object\n",
      " 4   votes         51577 non-null  int64 \n",
      " 5   cuisines      51532 non-null  object\n",
      " 6   Cost          51233 non-null  object\n",
      " 7   rest_type     51577 non-null  object\n",
      " 8   City          51577 non-null  object\n",
      "dtypes: int64(1), object(8)\n",
      "memory usage: 3.9+ MB\n"
     ]
    }
   ],
   "source": [
    "dataset.info()"
   ]
  },
  {
   "cell_type": "code",
   "execution_count": 11,
   "id": "7de5bf61-1997-4585-b1de-514927529444",
   "metadata": {},
   "outputs": [
    {
     "data": {
      "text/plain": [
       "array(['4.1/5', '3.8/5', '3.7/5', '3.6/5', '4.6/5', '4.0/5', '4.2/5',\n",
       "       '3.9/5', '3.1/5', '3.0/5', '3.2/5', '3.3/5', '2.8/5', '4.4/5',\n",
       "       '4.3/5', 'NEW', '2.9/5', '3.5/5', nan, '2.6/5', '3.8 /5', '3.4/5',\n",
       "       '4.5/5', '2.5/5', '2.7/5', '4.7/5', '2.4/5', '2.2/5', '2.3/5',\n",
       "       '3.4 /5', '-', '3.6 /5', '4.8/5', '3.9 /5', '4.2 /5', '4.0 /5',\n",
       "       '4.1 /5', '3.7 /5', '3.1 /5', '2.9 /5', '3.3 /5', '2.8 /5',\n",
       "       '3.5 /5', '2.7 /5', '2.5 /5', '3.2 /5', '2.6 /5', '4.5 /5',\n",
       "       '4.3 /5', '4.4 /5', '4.9/5', '2.1/5', '2.0/5', '1.8/5', '4.6 /5',\n",
       "       '4.9 /5', '3.0 /5', '4.8 /5', '2.3 /5', '4.7 /5', '2.4 /5',\n",
       "       '2.1 /5', '2.2 /5', '2.0 /5', '1.8 /5'], dtype=object)"
      ]
     },
     "execution_count": 11,
     "metadata": {},
     "output_type": "execute_result"
    }
   ],
   "source": [
    "dataset[\"Rating\"].unique()"
   ]
  },
  {
   "cell_type": "code",
   "execution_count": 12,
   "id": "1f8612df-f406-4493-9772-e9f036817d79",
   "metadata": {},
   "outputs": [
    {
     "data": {
      "text/plain": [
       "0    4.1\n",
       "1    4.1\n",
       "2    3.8\n",
       "3    3.7\n",
       "4    3.8\n",
       "Name: Rating, dtype: float64"
      ]
     },
     "execution_count": 12,
     "metadata": {},
     "output_type": "execute_result"
    }
   ],
   "source": [
    "# Cleaning rate column, removing /5 from data and replacing 'NEW' and '-' with null value\n",
    "def rating(rate):\n",
    "    if rate=='-'or rate=='NEW':\n",
    "        return np.nan\n",
    "    else:\n",
    "        rate =str(rate).split('/')[0]\n",
    "        return float(rate)\n",
    "    \n",
    "dataset[\"Rating\"] = dataset[\"Rating\"].apply(rating)\n",
    "dataset[\"Rating\"].head(5)"
   ]
  },
  {
   "cell_type": "code",
   "execution_count": 13,
   "id": "14120aae-1605-4490-a1c3-a9f0445155ec",
   "metadata": {},
   "outputs": [
    {
     "data": {
      "text/plain": [
       "array(['800', '300', '600', '700', '550', '500', '450', '650', '400',\n",
       "       '900', '200', '750', '150', '850', '100', '1,200', '350', '250',\n",
       "       '950', '1,000', '1,500', '1,300', '199', '80', '1,100', '160',\n",
       "       '1,600', '230', '130', '50', '190', '1,700', nan, '1,400', '180',\n",
       "       '1,350', '2,200', '2,000', '1,800', '1,900', '330', '2,500',\n",
       "       '2,100', '3,000', '2,800', '3,400', '40', '1,250', '3,500',\n",
       "       '4,000', '2,400', '2,600', '120', '1,450', '469', '70', '3,200',\n",
       "       '60', '560', '240', '360', '6,000', '1,050', '2,300', '4,100',\n",
       "       '5,000', '3,700', '1,650', '2,700', '4,500', '140'], dtype=object)"
      ]
     },
     "execution_count": 13,
     "metadata": {},
     "output_type": "execute_result"
    }
   ],
   "source": [
    "dataset[\"Cost\"].unique()"
   ]
  },
  {
   "cell_type": "code",
   "execution_count": 15,
   "id": "633ae416-dc52-48de-ab32-69bf502e8cea",
   "metadata": {},
   "outputs": [
    {
     "data": {
      "text/plain": [
       "0    800.0\n",
       "1    800.0\n",
       "2    800.0\n",
       "3    300.0\n",
       "4    600.0\n",
       "Name: Cost, dtype: float64"
      ]
     },
     "execution_count": 15,
     "metadata": {},
     "output_type": "execute_result"
    }
   ],
   "source": [
    "# Cleaning the cost column\n",
    "def costing(cost):\n",
    "    cost=str(cost)\n",
    "    if \",\" in cost:\n",
    "        cost=cost.replace(\",\",\"\")\n",
    "        return  (cost)\n",
    "    else:\n",
    "        return float(cost) \n",
    "        \n",
    "dataset[\"Cost\"] = dataset[\"Cost\"].apply(costing)\n",
    "dataset[\"Cost\"].head(5)"
   ]
  },
  {
   "cell_type": "code",
   "execution_count": 16,
   "id": "10684e65-b74c-481a-a385-439e5ca0d23a",
   "metadata": {},
   "outputs": [],
   "source": [
    "# Cleaning the restaurant column\n",
    "dataset['Restaurants'] = dataset['Restaurants'].str.replace('[Ãx][^A-Za-z]+','',regex=True)"
   ]
  },
  {
   "cell_type": "code",
   "execution_count": 17,
   "id": "904fd981-5dbf-43e0-bd44-50f8cd062e08",
   "metadata": {},
   "outputs": [
    {
     "data": {
      "text/html": [
       "<div>\n",
       "<style scoped>\n",
       "    .dataframe tbody tr th:only-of-type {\n",
       "        vertical-align: middle;\n",
       "    }\n",
       "\n",
       "    .dataframe tbody tr th {\n",
       "        vertical-align: top;\n",
       "    }\n",
       "\n",
       "    .dataframe thead th {\n",
       "        text-align: right;\n",
       "    }\n",
       "</style>\n",
       "<table border=\"1\" class=\"dataframe\">\n",
       "  <thead>\n",
       "    <tr style=\"text-align: right;\">\n",
       "      <th></th>\n",
       "      <th>Restaurants</th>\n",
       "      <th>online_order</th>\n",
       "      <th>book_table</th>\n",
       "      <th>Rating</th>\n",
       "      <th>votes</th>\n",
       "      <th>cuisines</th>\n",
       "      <th>Cost</th>\n",
       "      <th>rest_type</th>\n",
       "      <th>City</th>\n",
       "    </tr>\n",
       "  </thead>\n",
       "  <tbody>\n",
       "    <tr>\n",
       "      <th>0</th>\n",
       "      <td>Jalsa</td>\n",
       "      <td>Yes</td>\n",
       "      <td>Yes</td>\n",
       "      <td>4.1</td>\n",
       "      <td>775</td>\n",
       "      <td>North Indian, Mughlai, Chinese</td>\n",
       "      <td>800.0</td>\n",
       "      <td>Buffet</td>\n",
       "      <td>Banashankari</td>\n",
       "    </tr>\n",
       "    <tr>\n",
       "      <th>1</th>\n",
       "      <td>Spice Elephant</td>\n",
       "      <td>Yes</td>\n",
       "      <td>No</td>\n",
       "      <td>4.1</td>\n",
       "      <td>787</td>\n",
       "      <td>Chinese, North Indian, Thai</td>\n",
       "      <td>800.0</td>\n",
       "      <td>Buffet</td>\n",
       "      <td>Banashankari</td>\n",
       "    </tr>\n",
       "    <tr>\n",
       "      <th>2</th>\n",
       "      <td>San Churro Cafe</td>\n",
       "      <td>Yes</td>\n",
       "      <td>No</td>\n",
       "      <td>3.8</td>\n",
       "      <td>918</td>\n",
       "      <td>Cafe, Mexican, Italian</td>\n",
       "      <td>800.0</td>\n",
       "      <td>Buffet</td>\n",
       "      <td>Banashankari</td>\n",
       "    </tr>\n",
       "    <tr>\n",
       "      <th>3</th>\n",
       "      <td>Addhuri Udupi Bhojana</td>\n",
       "      <td>No</td>\n",
       "      <td>No</td>\n",
       "      <td>3.7</td>\n",
       "      <td>88</td>\n",
       "      <td>South Indian, North Indian</td>\n",
       "      <td>300.0</td>\n",
       "      <td>Buffet</td>\n",
       "      <td>Banashankari</td>\n",
       "    </tr>\n",
       "    <tr>\n",
       "      <th>4</th>\n",
       "      <td>Grand Village</td>\n",
       "      <td>No</td>\n",
       "      <td>No</td>\n",
       "      <td>3.8</td>\n",
       "      <td>166</td>\n",
       "      <td>North Indian, Rajasthani</td>\n",
       "      <td>600.0</td>\n",
       "      <td>Buffet</td>\n",
       "      <td>Banashankari</td>\n",
       "    </tr>\n",
       "    <tr>\n",
       "      <th>...</th>\n",
       "      <td>...</td>\n",
       "      <td>...</td>\n",
       "      <td>...</td>\n",
       "      <td>...</td>\n",
       "      <td>...</td>\n",
       "      <td>...</td>\n",
       "      <td>...</td>\n",
       "      <td>...</td>\n",
       "      <td>...</td>\n",
       "    </tr>\n",
       "    <tr>\n",
       "      <th>51712</th>\n",
       "      <td>Best Brews - Four Points by Sheraton Bengaluru...</td>\n",
       "      <td>No</td>\n",
       "      <td>No</td>\n",
       "      <td>3.6</td>\n",
       "      <td>27</td>\n",
       "      <td>Continental</td>\n",
       "      <td>1500.0</td>\n",
       "      <td>Pubs and bars</td>\n",
       "      <td>Whitefield</td>\n",
       "    </tr>\n",
       "    <tr>\n",
       "      <th>51713</th>\n",
       "      <td>Vinod Bar And Restaurant</td>\n",
       "      <td>No</td>\n",
       "      <td>No</td>\n",
       "      <td>NaN</td>\n",
       "      <td>0</td>\n",
       "      <td>Finger Food</td>\n",
       "      <td>600.0</td>\n",
       "      <td>Pubs and bars</td>\n",
       "      <td>Whitefield</td>\n",
       "    </tr>\n",
       "    <tr>\n",
       "      <th>51714</th>\n",
       "      <td>Plunge - Sheraton Grand Bengaluru Whitefield H...</td>\n",
       "      <td>No</td>\n",
       "      <td>No</td>\n",
       "      <td>NaN</td>\n",
       "      <td>0</td>\n",
       "      <td>Finger Food</td>\n",
       "      <td>2000.0</td>\n",
       "      <td>Pubs and bars</td>\n",
       "      <td>Whitefield</td>\n",
       "    </tr>\n",
       "    <tr>\n",
       "      <th>51715</th>\n",
       "      <td>Chime - Sheraton Grand Bengaluru Whitefield Ho...</td>\n",
       "      <td>No</td>\n",
       "      <td>Yes</td>\n",
       "      <td>4.3</td>\n",
       "      <td>236</td>\n",
       "      <td>Finger Food</td>\n",
       "      <td>2500.0</td>\n",
       "      <td>Pubs and bars</td>\n",
       "      <td>Whitefield</td>\n",
       "    </tr>\n",
       "    <tr>\n",
       "      <th>51716</th>\n",
       "      <td>The Nest - The Den Bengaluru</td>\n",
       "      <td>No</td>\n",
       "      <td>No</td>\n",
       "      <td>3.4</td>\n",
       "      <td>13</td>\n",
       "      <td>Finger Food, North Indian, Continental</td>\n",
       "      <td>1500.0</td>\n",
       "      <td>Pubs and bars</td>\n",
       "      <td>Whitefield</td>\n",
       "    </tr>\n",
       "  </tbody>\n",
       "</table>\n",
       "<p>51577 rows × 9 columns</p>\n",
       "</div>"
      ],
      "text/plain": [
       "                                             Restaurants online_order  \\\n",
       "0                                                  Jalsa          Yes   \n",
       "1                                         Spice Elephant          Yes   \n",
       "2                                        San Churro Cafe          Yes   \n",
       "3                                  Addhuri Udupi Bhojana           No   \n",
       "4                                          Grand Village           No   \n",
       "...                                                  ...          ...   \n",
       "51712  Best Brews - Four Points by Sheraton Bengaluru...           No   \n",
       "51713                           Vinod Bar And Restaurant           No   \n",
       "51714  Plunge - Sheraton Grand Bengaluru Whitefield H...           No   \n",
       "51715  Chime - Sheraton Grand Bengaluru Whitefield Ho...           No   \n",
       "51716                       The Nest - The Den Bengaluru           No   \n",
       "\n",
       "      book_table  Rating  votes                                cuisines  \\\n",
       "0            Yes     4.1    775          North Indian, Mughlai, Chinese   \n",
       "1             No     4.1    787             Chinese, North Indian, Thai   \n",
       "2             No     3.8    918                  Cafe, Mexican, Italian   \n",
       "3             No     3.7     88              South Indian, North Indian   \n",
       "4             No     3.8    166                North Indian, Rajasthani   \n",
       "...          ...     ...    ...                                     ...   \n",
       "51712         No     3.6     27                             Continental   \n",
       "51713         No     NaN      0                             Finger Food   \n",
       "51714         No     NaN      0                             Finger Food   \n",
       "51715        Yes     4.3    236                             Finger Food   \n",
       "51716         No     3.4     13  Finger Food, North Indian, Continental   \n",
       "\n",
       "         Cost      rest_type          City  \n",
       "0       800.0         Buffet  Banashankari  \n",
       "1       800.0         Buffet  Banashankari  \n",
       "2       800.0         Buffet  Banashankari  \n",
       "3       300.0         Buffet  Banashankari  \n",
       "4       600.0         Buffet  Banashankari  \n",
       "...       ...            ...           ...  \n",
       "51712  1500.0  Pubs and bars    Whitefield  \n",
       "51713   600.0  Pubs and bars    Whitefield  \n",
       "51714  2000.0  Pubs and bars    Whitefield  \n",
       "51715  2500.0  Pubs and bars    Whitefield  \n",
       "51716  1500.0  Pubs and bars    Whitefield  \n",
       "\n",
       "[51577 rows x 9 columns]"
      ]
     },
     "execution_count": 17,
     "metadata": {},
     "output_type": "execute_result"
    }
   ],
   "source": [
    "dataset"
   ]
  },
  {
   "cell_type": "code",
   "execution_count": 18,
   "id": "7a5791b6-faff-41d5-b925-4571e6d02f2e",
   "metadata": {},
   "outputs": [
    {
     "data": {
      "text/plain": [
       "Restaurants        0\n",
       "online_order       0\n",
       "book_table         0\n",
       "Rating          9987\n",
       "votes              0\n",
       "cuisines          45\n",
       "Cost             344\n",
       "rest_type          0\n",
       "City               0\n",
       "dtype: int64"
      ]
     },
     "execution_count": 18,
     "metadata": {},
     "output_type": "execute_result"
    }
   ],
   "source": [
    "dataset.isnull().sum()"
   ]
  },
  {
   "cell_type": "code",
   "execution_count": 19,
   "id": "82da62a9-d2cd-4aa2-b60f-95fdf3173f2d",
   "metadata": {},
   "outputs": [],
   "source": [
    "dataset.dropna(inplace=True)"
   ]
  },
  {
   "cell_type": "code",
   "execution_count": 20,
   "id": "678840e5-c05f-46a2-9d7a-87cd16854af3",
   "metadata": {},
   "outputs": [
    {
     "data": {
      "text/plain": [
       "Restaurants     0\n",
       "online_order    0\n",
       "book_table      0\n",
       "Rating          0\n",
       "votes           0\n",
       "cuisines        0\n",
       "Cost            0\n",
       "rest_type       0\n",
       "City            0\n",
       "dtype: int64"
      ]
     },
     "execution_count": 20,
     "metadata": {},
     "output_type": "execute_result"
    }
   ],
   "source": [
    "dataset.isnull().sum()"
   ]
  },
  {
   "cell_type": "code",
   "execution_count": 21,
   "id": "578ebe01-2665-48e5-a077-3088bfa082eb",
   "metadata": {},
   "outputs": [
    {
     "data": {
      "text/plain": [
       "(41337, 9)"
      ]
     },
     "execution_count": 21,
     "metadata": {},
     "output_type": "execute_result"
    }
   ],
   "source": [
    "dataset.shape"
   ]
  },
  {
   "cell_type": "code",
   "execution_count": 22,
   "id": "a27cbba9-39a5-4c0f-bc3e-cdb639865403",
   "metadata": {},
   "outputs": [],
   "source": [
    "# Saving the final dataset to excel\n",
    "dataset.to_excel(\"zomatoclean_final.xlsx\")"
   ]
  },
  {
   "cell_type": "markdown",
   "id": "e34c7e49-9fcf-4eb5-a714-7c1b3b66fa99",
   "metadata": {},
   "source": [
    "### Model Training and Evaluation"
   ]
  },
  {
   "cell_type": "code",
   "execution_count": 23,
   "id": "16ce973a-de62-44f5-a1ce-2d74358ed25a",
   "metadata": {},
   "outputs": [
    {
     "data": {
      "text/html": [
       "<div>\n",
       "<style scoped>\n",
       "    .dataframe tbody tr th:only-of-type {\n",
       "        vertical-align: middle;\n",
       "    }\n",
       "\n",
       "    .dataframe tbody tr th {\n",
       "        vertical-align: top;\n",
       "    }\n",
       "\n",
       "    .dataframe thead th {\n",
       "        text-align: right;\n",
       "    }\n",
       "</style>\n",
       "<table border=\"1\" class=\"dataframe\">\n",
       "  <thead>\n",
       "    <tr style=\"text-align: right;\">\n",
       "      <th></th>\n",
       "      <th>Restaurants</th>\n",
       "      <th>online_order</th>\n",
       "      <th>book_table</th>\n",
       "      <th>Rating</th>\n",
       "      <th>votes</th>\n",
       "      <th>cuisines</th>\n",
       "      <th>Cost</th>\n",
       "      <th>rest_type</th>\n",
       "      <th>City</th>\n",
       "    </tr>\n",
       "  </thead>\n",
       "  <tbody>\n",
       "    <tr>\n",
       "      <th>0</th>\n",
       "      <td>Jalsa</td>\n",
       "      <td>Yes</td>\n",
       "      <td>Yes</td>\n",
       "      <td>4.1</td>\n",
       "      <td>775</td>\n",
       "      <td>North Indian, Mughlai, Chinese</td>\n",
       "      <td>800</td>\n",
       "      <td>Buffet</td>\n",
       "      <td>Banashankari</td>\n",
       "    </tr>\n",
       "    <tr>\n",
       "      <th>1</th>\n",
       "      <td>Spice Elephant</td>\n",
       "      <td>Yes</td>\n",
       "      <td>No</td>\n",
       "      <td>4.1</td>\n",
       "      <td>787</td>\n",
       "      <td>Chinese, North Indian, Thai</td>\n",
       "      <td>800</td>\n",
       "      <td>Buffet</td>\n",
       "      <td>Banashankari</td>\n",
       "    </tr>\n",
       "    <tr>\n",
       "      <th>2</th>\n",
       "      <td>San Churro Cafe</td>\n",
       "      <td>Yes</td>\n",
       "      <td>No</td>\n",
       "      <td>3.8</td>\n",
       "      <td>918</td>\n",
       "      <td>Cafe, Mexican, Italian</td>\n",
       "      <td>800</td>\n",
       "      <td>Buffet</td>\n",
       "      <td>Banashankari</td>\n",
       "    </tr>\n",
       "    <tr>\n",
       "      <th>3</th>\n",
       "      <td>Addhuri Udupi Bhojana</td>\n",
       "      <td>No</td>\n",
       "      <td>No</td>\n",
       "      <td>3.7</td>\n",
       "      <td>88</td>\n",
       "      <td>South Indian, North Indian</td>\n",
       "      <td>300</td>\n",
       "      <td>Buffet</td>\n",
       "      <td>Banashankari</td>\n",
       "    </tr>\n",
       "    <tr>\n",
       "      <th>4</th>\n",
       "      <td>Grand Village</td>\n",
       "      <td>No</td>\n",
       "      <td>No</td>\n",
       "      <td>3.8</td>\n",
       "      <td>166</td>\n",
       "      <td>North Indian, Rajasthani</td>\n",
       "      <td>600</td>\n",
       "      <td>Buffet</td>\n",
       "      <td>Banashankari</td>\n",
       "    </tr>\n",
       "    <tr>\n",
       "      <th>...</th>\n",
       "      <td>...</td>\n",
       "      <td>...</td>\n",
       "      <td>...</td>\n",
       "      <td>...</td>\n",
       "      <td>...</td>\n",
       "      <td>...</td>\n",
       "      <td>...</td>\n",
       "      <td>...</td>\n",
       "      <td>...</td>\n",
       "    </tr>\n",
       "    <tr>\n",
       "      <th>51709</th>\n",
       "      <td>The Farm House Bar n Grill</td>\n",
       "      <td>No</td>\n",
       "      <td>No</td>\n",
       "      <td>3.7</td>\n",
       "      <td>34</td>\n",
       "      <td>North Indian, Continental</td>\n",
       "      <td>800</td>\n",
       "      <td>Pubs and bars</td>\n",
       "      <td>Whitefield</td>\n",
       "    </tr>\n",
       "    <tr>\n",
       "      <th>51711</th>\n",
       "      <td>Bhagini</td>\n",
       "      <td>No</td>\n",
       "      <td>No</td>\n",
       "      <td>2.5</td>\n",
       "      <td>81</td>\n",
       "      <td>Andhra, South Indian, Chinese, North Indian</td>\n",
       "      <td>800</td>\n",
       "      <td>Pubs and bars</td>\n",
       "      <td>Whitefield</td>\n",
       "    </tr>\n",
       "    <tr>\n",
       "      <th>51712</th>\n",
       "      <td>Best Brews - Four Points by Sheraton Bengaluru...</td>\n",
       "      <td>No</td>\n",
       "      <td>No</td>\n",
       "      <td>3.6</td>\n",
       "      <td>27</td>\n",
       "      <td>Continental</td>\n",
       "      <td>1500</td>\n",
       "      <td>Pubs and bars</td>\n",
       "      <td>Whitefield</td>\n",
       "    </tr>\n",
       "    <tr>\n",
       "      <th>51715</th>\n",
       "      <td>Chime - Sheraton Grand Bengaluru Whitefield Ho...</td>\n",
       "      <td>No</td>\n",
       "      <td>Yes</td>\n",
       "      <td>4.3</td>\n",
       "      <td>236</td>\n",
       "      <td>Finger Food</td>\n",
       "      <td>2500</td>\n",
       "      <td>Pubs and bars</td>\n",
       "      <td>Whitefield</td>\n",
       "    </tr>\n",
       "    <tr>\n",
       "      <th>51716</th>\n",
       "      <td>The Nest - The Den Bengaluru</td>\n",
       "      <td>No</td>\n",
       "      <td>No</td>\n",
       "      <td>3.4</td>\n",
       "      <td>13</td>\n",
       "      <td>Finger Food, North Indian, Continental</td>\n",
       "      <td>1500</td>\n",
       "      <td>Pubs and bars</td>\n",
       "      <td>Whitefield</td>\n",
       "    </tr>\n",
       "  </tbody>\n",
       "</table>\n",
       "<p>41337 rows × 9 columns</p>\n",
       "</div>"
      ],
      "text/plain": [
       "                                             Restaurants online_order  \\\n",
       "0                                                  Jalsa          Yes   \n",
       "1                                         Spice Elephant          Yes   \n",
       "2                                        San Churro Cafe          Yes   \n",
       "3                                  Addhuri Udupi Bhojana           No   \n",
       "4                                          Grand Village           No   \n",
       "...                                                  ...          ...   \n",
       "51709                         The Farm House Bar n Grill           No   \n",
       "51711                                            Bhagini           No   \n",
       "51712  Best Brews - Four Points by Sheraton Bengaluru...           No   \n",
       "51715  Chime - Sheraton Grand Bengaluru Whitefield Ho...           No   \n",
       "51716                       The Nest - The Den Bengaluru           No   \n",
       "\n",
       "      book_table  Rating  votes                                     cuisines  \\\n",
       "0            Yes     4.1    775               North Indian, Mughlai, Chinese   \n",
       "1             No     4.1    787                  Chinese, North Indian, Thai   \n",
       "2             No     3.8    918                       Cafe, Mexican, Italian   \n",
       "3             No     3.7     88                   South Indian, North Indian   \n",
       "4             No     3.8    166                     North Indian, Rajasthani   \n",
       "...          ...     ...    ...                                          ...   \n",
       "51709         No     3.7     34                    North Indian, Continental   \n",
       "51711         No     2.5     81  Andhra, South Indian, Chinese, North Indian   \n",
       "51712         No     3.6     27                                  Continental   \n",
       "51715        Yes     4.3    236                                  Finger Food   \n",
       "51716         No     3.4     13       Finger Food, North Indian, Continental   \n",
       "\n",
       "       Cost      rest_type          City  \n",
       "0       800         Buffet  Banashankari  \n",
       "1       800         Buffet  Banashankari  \n",
       "2       800         Buffet  Banashankari  \n",
       "3       300         Buffet  Banashankari  \n",
       "4       600         Buffet  Banashankari  \n",
       "...     ...            ...           ...  \n",
       "51709   800  Pubs and bars    Whitefield  \n",
       "51711   800  Pubs and bars    Whitefield  \n",
       "51712  1500  Pubs and bars    Whitefield  \n",
       "51715  2500  Pubs and bars    Whitefield  \n",
       "51716  1500  Pubs and bars    Whitefield  \n",
       "\n",
       "[41337 rows x 9 columns]"
      ]
     },
     "execution_count": 23,
     "metadata": {},
     "output_type": "execute_result"
    }
   ],
   "source": [
    "# Reading the cleaned data\n",
    "dataset = pd.read_excel(\"zomatoclean_final.xlsx\",index_col=0)\n",
    "dataset"
   ]
  },
  {
   "cell_type": "markdown",
   "id": "b1b69db4-3c73-453c-9ce4-9b52b7a6db4b",
   "metadata": {},
   "source": [
    "#### Prepaing data for model training - Encoding"
   ]
  },
  {
   "cell_type": "code",
   "execution_count": 24,
   "id": "54edbe3e-4bca-419a-802b-4afb75b3a5e7",
   "metadata": {},
   "outputs": [],
   "source": [
    "training_data = dataset.copy()"
   ]
  },
  {
   "cell_type": "code",
   "execution_count": 25,
   "id": "86fc5a28-6f01-4708-afed-d6d3b20ca51a",
   "metadata": {},
   "outputs": [],
   "source": [
    "from sklearn.preprocessing import LabelEncoder"
   ]
  },
  {
   "cell_type": "code",
   "execution_count": 26,
   "id": "e95d13d1-8037-4176-846c-3bf5bba6d611",
   "metadata": {},
   "outputs": [],
   "source": [
    "# Encoding book_table column\n",
    "encoder_book_table = LabelEncoder()\n",
    "training_data.book_table = encoder_book_table.fit_transform(training_data.book_table)"
   ]
  },
  {
   "cell_type": "code",
   "execution_count": 27,
   "id": "d259e7ba-c08d-407f-b756-4124485800bd",
   "metadata": {},
   "outputs": [],
   "source": [
    "# Encoding online_order column\n",
    "encoder_online_order = LabelEncoder()\n",
    "training_data.online_order = encoder_online_order.fit_transform(training_data.online_order)"
   ]
  },
  {
   "cell_type": "code",
   "execution_count": 28,
   "id": "f43897c9-60fa-4766-b68b-27fdf48ee85c",
   "metadata": {},
   "outputs": [],
   "source": [
    "# Encoding cuisines column\n",
    "encoder_cuisines = LabelEncoder()\n",
    "training_data.cuisines = encoder_cuisines.fit_transform(training_data.cuisines)"
   ]
  },
  {
   "cell_type": "code",
   "execution_count": 29,
   "id": "e4734671-72ae-4d58-821c-6e66b98c65a0",
   "metadata": {},
   "outputs": [],
   "source": [
    "# Encoding rest_type column\n",
    "encoder_rest_type = LabelEncoder()\n",
    "training_data.rest_type = encoder_rest_type.fit_transform(training_data.rest_type)"
   ]
  },
  {
   "cell_type": "code",
   "execution_count": 30,
   "id": "4dc12dde-ef60-49e2-9bcd-a744ae181eed",
   "metadata": {},
   "outputs": [],
   "source": [
    "# Encoding city column\n",
    "encoder_city = LabelEncoder()\n",
    "training_data.City = encoder_city.fit_transform(training_data.City)"
   ]
  },
  {
   "cell_type": "code",
   "execution_count": 31,
   "id": "e67eb3c6-74b6-4b61-b64a-f565f0a4b12f",
   "metadata": {},
   "outputs": [
    {
     "data": {
      "text/html": [
       "<div>\n",
       "<style scoped>\n",
       "    .dataframe tbody tr th:only-of-type {\n",
       "        vertical-align: middle;\n",
       "    }\n",
       "\n",
       "    .dataframe tbody tr th {\n",
       "        vertical-align: top;\n",
       "    }\n",
       "\n",
       "    .dataframe thead th {\n",
       "        text-align: right;\n",
       "    }\n",
       "</style>\n",
       "<table border=\"1\" class=\"dataframe\">\n",
       "  <thead>\n",
       "    <tr style=\"text-align: right;\">\n",
       "      <th></th>\n",
       "      <th>Restaurants</th>\n",
       "      <th>online_order</th>\n",
       "      <th>book_table</th>\n",
       "      <th>Rating</th>\n",
       "      <th>votes</th>\n",
       "      <th>cuisines</th>\n",
       "      <th>Cost</th>\n",
       "      <th>rest_type</th>\n",
       "      <th>City</th>\n",
       "    </tr>\n",
       "  </thead>\n",
       "  <tbody>\n",
       "    <tr>\n",
       "      <th>0</th>\n",
       "      <td>Jalsa</td>\n",
       "      <td>1</td>\n",
       "      <td>1</td>\n",
       "      <td>4.1</td>\n",
       "      <td>775</td>\n",
       "      <td>1901</td>\n",
       "      <td>800</td>\n",
       "      <td>0</td>\n",
       "      <td>1</td>\n",
       "    </tr>\n",
       "    <tr>\n",
       "      <th>1</th>\n",
       "      <td>Spice Elephant</td>\n",
       "      <td>1</td>\n",
       "      <td>0</td>\n",
       "      <td>4.1</td>\n",
       "      <td>787</td>\n",
       "      <td>817</td>\n",
       "      <td>800</td>\n",
       "      <td>0</td>\n",
       "      <td>1</td>\n",
       "    </tr>\n",
       "    <tr>\n",
       "      <th>2</th>\n",
       "      <td>San Churro Cafe</td>\n",
       "      <td>1</td>\n",
       "      <td>0</td>\n",
       "      <td>3.8</td>\n",
       "      <td>918</td>\n",
       "      <td>654</td>\n",
       "      <td>800</td>\n",
       "      <td>0</td>\n",
       "      <td>1</td>\n",
       "    </tr>\n",
       "    <tr>\n",
       "      <th>3</th>\n",
       "      <td>Addhuri Udupi Bhojana</td>\n",
       "      <td>0</td>\n",
       "      <td>0</td>\n",
       "      <td>3.7</td>\n",
       "      <td>88</td>\n",
       "      <td>2229</td>\n",
       "      <td>300</td>\n",
       "      <td>0</td>\n",
       "      <td>1</td>\n",
       "    </tr>\n",
       "    <tr>\n",
       "      <th>4</th>\n",
       "      <td>Grand Village</td>\n",
       "      <td>0</td>\n",
       "      <td>0</td>\n",
       "      <td>3.8</td>\n",
       "      <td>166</td>\n",
       "      <td>1928</td>\n",
       "      <td>600</td>\n",
       "      <td>0</td>\n",
       "      <td>1</td>\n",
       "    </tr>\n",
       "    <tr>\n",
       "      <th>...</th>\n",
       "      <td>...</td>\n",
       "      <td>...</td>\n",
       "      <td>...</td>\n",
       "      <td>...</td>\n",
       "      <td>...</td>\n",
       "      <td>...</td>\n",
       "      <td>...</td>\n",
       "      <td>...</td>\n",
       "      <td>...</td>\n",
       "    </tr>\n",
       "    <tr>\n",
       "      <th>51709</th>\n",
       "      <td>The Farm House Bar n Grill</td>\n",
       "      <td>0</td>\n",
       "      <td>0</td>\n",
       "      <td>3.7</td>\n",
       "      <td>34</td>\n",
       "      <td>1792</td>\n",
       "      <td>800</td>\n",
       "      <td>6</td>\n",
       "      <td>29</td>\n",
       "    </tr>\n",
       "    <tr>\n",
       "      <th>51711</th>\n",
       "      <td>Bhagini</td>\n",
       "      <td>0</td>\n",
       "      <td>0</td>\n",
       "      <td>2.5</td>\n",
       "      <td>81</td>\n",
       "      <td>101</td>\n",
       "      <td>800</td>\n",
       "      <td>6</td>\n",
       "      <td>29</td>\n",
       "    </tr>\n",
       "    <tr>\n",
       "      <th>51712</th>\n",
       "      <td>Best Brews - Four Points by Sheraton Bengaluru...</td>\n",
       "      <td>0</td>\n",
       "      <td>0</td>\n",
       "      <td>3.6</td>\n",
       "      <td>27</td>\n",
       "      <td>867</td>\n",
       "      <td>1500</td>\n",
       "      <td>6</td>\n",
       "      <td>29</td>\n",
       "    </tr>\n",
       "    <tr>\n",
       "      <th>51715</th>\n",
       "      <td>Chime - Sheraton Grand Bengaluru Whitefield Ho...</td>\n",
       "      <td>0</td>\n",
       "      <td>1</td>\n",
       "      <td>4.3</td>\n",
       "      <td>236</td>\n",
       "      <td>1209</td>\n",
       "      <td>2500</td>\n",
       "      <td>6</td>\n",
       "      <td>29</td>\n",
       "    </tr>\n",
       "    <tr>\n",
       "      <th>51716</th>\n",
       "      <td>The Nest - The Den Bengaluru</td>\n",
       "      <td>0</td>\n",
       "      <td>0</td>\n",
       "      <td>3.4</td>\n",
       "      <td>13</td>\n",
       "      <td>1233</td>\n",
       "      <td>1500</td>\n",
       "      <td>6</td>\n",
       "      <td>29</td>\n",
       "    </tr>\n",
       "  </tbody>\n",
       "</table>\n",
       "<p>41337 rows × 9 columns</p>\n",
       "</div>"
      ],
      "text/plain": [
       "                                             Restaurants  online_order  \\\n",
       "0                                                  Jalsa             1   \n",
       "1                                         Spice Elephant             1   \n",
       "2                                        San Churro Cafe             1   \n",
       "3                                  Addhuri Udupi Bhojana             0   \n",
       "4                                          Grand Village             0   \n",
       "...                                                  ...           ...   \n",
       "51709                         The Farm House Bar n Grill             0   \n",
       "51711                                            Bhagini             0   \n",
       "51712  Best Brews - Four Points by Sheraton Bengaluru...             0   \n",
       "51715  Chime - Sheraton Grand Bengaluru Whitefield Ho...             0   \n",
       "51716                       The Nest - The Den Bengaluru             0   \n",
       "\n",
       "       book_table  Rating  votes  cuisines  Cost  rest_type  City  \n",
       "0               1     4.1    775      1901   800          0     1  \n",
       "1               0     4.1    787       817   800          0     1  \n",
       "2               0     3.8    918       654   800          0     1  \n",
       "3               0     3.7     88      2229   300          0     1  \n",
       "4               0     3.8    166      1928   600          0     1  \n",
       "...           ...     ...    ...       ...   ...        ...   ...  \n",
       "51709           0     3.7     34      1792   800          6    29  \n",
       "51711           0     2.5     81       101   800          6    29  \n",
       "51712           0     3.6     27       867  1500          6    29  \n",
       "51715           1     4.3    236      1209  2500          6    29  \n",
       "51716           0     3.4     13      1233  1500          6    29  \n",
       "\n",
       "[41337 rows x 9 columns]"
      ]
     },
     "execution_count": 31,
     "metadata": {},
     "output_type": "execute_result"
    }
   ],
   "source": [
    "# Reading the encoded data\n",
    "training_data"
   ]
  },
  {
   "cell_type": "markdown",
   "id": "b9643f83-288d-41a7-b1ca-e8db9570a5ac",
   "metadata": {},
   "source": [
    "##### We don't need Restaurants column for training purpose so we can drop it"
   ]
  },
  {
   "cell_type": "code",
   "execution_count": 32,
   "id": "a04f98d0-bfb5-4fe3-b3e9-5044881e5dc5",
   "metadata": {},
   "outputs": [],
   "source": [
    "# Dropping restaurant column as the rating is independent of it\n",
    "training_data.drop(columns=[\"Restaurants\"],inplace=True)"
   ]
  },
  {
   "cell_type": "code",
   "execution_count": 33,
   "id": "26fa62b8-44c4-4638-bfa5-645fcd5e8352",
   "metadata": {},
   "outputs": [
    {
     "data": {
      "text/plain": [
       "<AxesSubplot:>"
      ]
     },
     "execution_count": 33,
     "metadata": {},
     "output_type": "execute_result"
    },
    {
     "data": {
      "image/png": "[encoded data removed]",
      "text/plain": [
       "<Figure size 432x288 with 2 Axes>"
      ]
     },
     "metadata": {
      "needs_background": "light"
     },
     "output_type": "display_data"
    }
   ],
   "source": [
    "# Visualizing heatmap to find coorelation\n",
    "sns.heatmap(training_data.corr())"
   ]
  },
  {
   "cell_type": "markdown",
   "id": "61053f1d-281e-4b18-b1fb-1794e561f104",
   "metadata": {},
   "source": [
    "#### Splitting Training and Test Data"
   ]
  },
  {
   "cell_type": "code",
   "execution_count": 34,
   "id": "2fcdd779-7a65-4102-ba47-b6741f3f3785",
   "metadata": {},
   "outputs": [],
   "source": [
    "from sklearn.model_selection import train_test_split"
   ]
  },
  {
   "cell_type": "code",
   "execution_count": 35,
   "id": "243998c4-7441-4945-b2ba-8e82215801c0",
   "metadata": {},
   "outputs": [
    {
     "data": {
      "text/plain": [
       "Index(['online_order', 'book_table', 'Rating', 'votes', 'cuisines', 'Cost',\n",
       "       'rest_type', 'City'],\n",
       "      dtype='object')"
      ]
     },
     "execution_count": 35,
     "metadata": {},
     "output_type": "execute_result"
    }
   ],
   "source": [
    "training_data.columns"
   ]
  },
  {
   "cell_type": "code",
   "execution_count": 36,
   "id": "71575228-6211-4396-abe6-f2fcb4af4eba",
   "metadata": {},
   "outputs": [],
   "source": [
    "# Independent Variales\n",
    "features = training_data.drop(columns = [\"Rating\"])"
   ]
  },
  {
   "cell_type": "code",
   "execution_count": 37,
   "id": "1acbe827-8ffd-438d-b8f4-8bc04df7ef02",
   "metadata": {},
   "outputs": [],
   "source": [
    "# Dependent Variable\n",
    "target = training_data[\"Rating\"]"
   ]
  },
  {
   "cell_type": "code",
   "execution_count": 38,
   "id": "cab17ed7-8a47-48f6-a449-b167ae0c43d4",
   "metadata": {},
   "outputs": [],
   "source": [
    "# Splitting training and test data\n",
    "X_train, X_test, y_train, y_test = train_test_split(features,target,test_size=0.1,random_state=10)"
   ]
  },
  {
   "cell_type": "code",
   "execution_count": 39,
   "id": "3c279f7d-fc77-4ba3-8ca9-c89b6859e58d",
   "metadata": {},
   "outputs": [
    {
     "data": {
      "text/plain": [
       "[37203, 4134, 37203, 4134]"
      ]
     },
     "execution_count": 39,
     "metadata": {},
     "output_type": "execute_result"
    }
   ],
   "source": [
    "# finding length of train and test data\n",
    "[len(x) for x in [X_train, X_test, y_train, y_test]]"
   ]
  },
  {
   "cell_type": "markdown",
   "id": "9c5655b1-ea85-42fa-abc9-79c30fe6934f",
   "metadata": {},
   "source": [
    "#### 1. Training and Testing with XGBoost Regressor"
   ]
  },
  {
   "cell_type": "code",
   "execution_count": 40,
   "id": "f838feb8-a2d6-4a47-a4c3-ee3389c63dc6",
   "metadata": {},
   "outputs": [],
   "source": [
    "# Importing the model\n",
    "from sklearn.metrics import r2_score,mean_squared_error\n",
    "import xgboost as xg"
   ]
  },
  {
   "cell_type": "code",
   "execution_count": 41,
   "id": "5b97dee8-3216-4b69-89c6-f1fbeb2ddf0e",
   "metadata": {},
   "outputs": [],
   "source": [
    "# Defining the model\n",
    "XG_Model = xg.XGBRegressor(objective ='reg:squarederror',n_estimators = 120, seed = 123)  "
   ]
  },
  {
   "cell_type": "code",
   "execution_count": 42,
   "id": "25f7119a-f167-48c2-96d5-cad3a27324da",
   "metadata": {},
   "outputs": [
    {
     "data": {
      "text/plain": [
       "XGBRegressor(base_score=0.5, booster='gbtree', callbacks=None,\n",
       "             colsample_bylevel=1, colsample_bynode=1, colsample_bytree=1,\n",
       "             early_stopping_rounds=None, enable_categorical=False,\n",
       "             eval_metric=None, gamma=0, gpu_id=-1, grow_policy='depthwise',\n",
       "             importance_type=None, interaction_constraints='',\n",
       "             learning_rate=0.300000012, max_bin=256, max_cat_to_onehot=4,\n",
       "             max_delta_step=0, max_depth=6, max_leaves=0, min_child_weight=1,\n",
       "             missing=nan, monotone_constraints='()', n_estimators=120, n_jobs=0,\n",
       "             num_parallel_tree=1, predictor='auto', random_state=123,\n",
       "             reg_alpha=0, reg_lambda=1, ...)"
      ]
     },
     "execution_count": 42,
     "metadata": {},
     "output_type": "execute_result"
    }
   ],
   "source": [
    "# Fitting the model\n",
    "XG_Model.fit(X_train, y_train)"
   ]
  },
  {
   "cell_type": "code",
   "execution_count": 43,
   "id": "7458f61d-d89b-45c8-94d9-9518103033fc",
   "metadata": {},
   "outputs": [],
   "source": [
    "# Predicting test data using XGBoost\n",
    "pred = XG_Model.predict(X_test)"
   ]
  },
  {
   "cell_type": "code",
   "execution_count": 44,
   "id": "a5251cb6-ce6b-44ad-b73c-b10a4f84c3ea",
   "metadata": {},
   "outputs": [
    {
     "data": {
      "text/plain": [
       "(0.7351838591369273, 0.052035393701305575)"
      ]
     },
     "execution_count": 44,
     "metadata": {},
     "output_type": "execute_result"
    }
   ],
   "source": [
    "# Finding r2 score and mean squared error for test data to check model's performance\n",
    "r2_score_test_xg=r2_score(y_test,pred)\n",
    "mean_squared_error_test_xg=mean_squared_error(y_test,pred)\n",
    "(r2_score_test_xg,mean_squared_error_test_xg)"
   ]
  },
  {
   "cell_type": "code",
   "execution_count": 45,
   "id": "241b2321-141c-47a6-b302-e59d1feec82d",
   "metadata": {},
   "outputs": [],
   "source": [
    "# Predicting train data using XGBoost\n",
    "pred_train = XG_Model.predict(X_train)"
   ]
  },
  {
   "cell_type": "code",
   "execution_count": 46,
   "id": "090afad7-3b11-4701-8b90-3d9798a73f91",
   "metadata": {},
   "outputs": [
    {
     "data": {
      "text/plain": [
       "(0.7826382335026081, 0.042137497306032834)"
      ]
     },
     "execution_count": 46,
     "metadata": {},
     "output_type": "execute_result"
    }
   ],
   "source": [
    "# Finding r2 score and mean squared error for train data to check model's performance\n",
    "r2_score_train_xg=r2_score(y_train,pred_train)\n",
    "mean_squared_error_train_xg=mean_squared_error(y_train,pred_train)\n",
    "(r2_score_train_xg,mean_squared_error_train_xg)"
   ]
  },
  {
   "cell_type": "code",
   "execution_count": 47,
   "id": "d9ca8c52-ae60-4bd0-a040-d633117ec087",
   "metadata": {},
   "outputs": [
    {
     "data": {
      "text/html": [
       "<div>\n",
       "<style scoped>\n",
       "    .dataframe tbody tr th:only-of-type {\n",
       "        vertical-align: middle;\n",
       "    }\n",
       "\n",
       "    .dataframe tbody tr th {\n",
       "        vertical-align: top;\n",
       "    }\n",
       "\n",
       "    .dataframe thead th {\n",
       "        text-align: right;\n",
       "    }\n",
       "</style>\n",
       "<table border=\"1\" class=\"dataframe\">\n",
       "  <thead>\n",
       "    <tr style=\"text-align: right;\">\n",
       "      <th></th>\n",
       "      <th>y_test</th>\n",
       "      <th>pred</th>\n",
       "    </tr>\n",
       "  </thead>\n",
       "  <tbody>\n",
       "    <tr>\n",
       "      <th>28627</th>\n",
       "      <td>2.9</td>\n",
       "      <td>3.001628</td>\n",
       "    </tr>\n",
       "    <tr>\n",
       "      <th>36449</th>\n",
       "      <td>4.2</td>\n",
       "      <td>4.259044</td>\n",
       "    </tr>\n",
       "    <tr>\n",
       "      <th>380</th>\n",
       "      <td>3.8</td>\n",
       "      <td>3.591591</td>\n",
       "    </tr>\n",
       "    <tr>\n",
       "      <th>28172</th>\n",
       "      <td>4.5</td>\n",
       "      <td>4.475447</td>\n",
       "    </tr>\n",
       "    <tr>\n",
       "      <th>19225</th>\n",
       "      <td>3.7</td>\n",
       "      <td>3.431192</td>\n",
       "    </tr>\n",
       "    <tr>\n",
       "      <th>...</th>\n",
       "      <td>...</td>\n",
       "      <td>...</td>\n",
       "    </tr>\n",
       "    <tr>\n",
       "      <th>7038</th>\n",
       "      <td>3.5</td>\n",
       "      <td>3.333582</td>\n",
       "    </tr>\n",
       "    <tr>\n",
       "      <th>46552</th>\n",
       "      <td>3.3</td>\n",
       "      <td>3.240853</td>\n",
       "    </tr>\n",
       "    <tr>\n",
       "      <th>34812</th>\n",
       "      <td>4.1</td>\n",
       "      <td>4.128781</td>\n",
       "    </tr>\n",
       "    <tr>\n",
       "      <th>44397</th>\n",
       "      <td>3.9</td>\n",
       "      <td>3.913894</td>\n",
       "    </tr>\n",
       "    <tr>\n",
       "      <th>36750</th>\n",
       "      <td>4.2</td>\n",
       "      <td>4.029953</td>\n",
       "    </tr>\n",
       "  </tbody>\n",
       "</table>\n",
       "<p>4134 rows × 2 columns</p>\n",
       "</div>"
      ],
      "text/plain": [
       "       y_test      pred\n",
       "28627     2.9  3.001628\n",
       "36449     4.2  4.259044\n",
       "380       3.8  3.591591\n",
       "28172     4.5  4.475447\n",
       "19225     3.7  3.431192\n",
       "...       ...       ...\n",
       "7038      3.5  3.333582\n",
       "46552     3.3  3.240853\n",
       "34812     4.1  4.128781\n",
       "44397     3.9  3.913894\n",
       "36750     4.2  4.029953\n",
       "\n",
       "[4134 rows x 2 columns]"
      ]
     },
     "execution_count": 47,
     "metadata": {},
     "output_type": "execute_result"
    }
   ],
   "source": [
    "# Comparing actual and predicted values\n",
    "df = pd.DataFrame({\"y_test\" : y_test,\"pred\":pred})\n",
    "df"
   ]
  },
  {
   "cell_type": "code",
   "execution_count": 48,
   "id": "e1ff98b5-aff1-4f4d-9919-bb25a837ba0e",
   "metadata": {},
   "outputs": [
    {
     "data": {
      "text/plain": [
       "(4.836594104766846, 2.5933332443237305)"
      ]
     },
     "execution_count": 48,
     "metadata": {},
     "output_type": "execute_result"
    }
   ],
   "source": [
    "# Verifying for the predicted values to be in expected range\n",
    "(df.pred.max(),df.pred.min())"
   ]
  },
  {
   "cell_type": "markdown",
   "id": "1319531f-8a60-4e39-a135-ccf07b22ac0f",
   "metadata": {},
   "source": [
    "#### 2. Training and Testing with Extra Tree Regressor"
   ]
  },
  {
   "cell_type": "code",
   "execution_count": 49,
   "id": "84d5d7fb-9b5a-4887-9690-dd67e64b92af",
   "metadata": {},
   "outputs": [],
   "source": [
    "# Importing the model\n",
    "from sklearn.metrics import r2_score,mean_squared_error\n",
    "from sklearn.ensemble import ExtraTreesRegressor"
   ]
  },
  {
   "cell_type": "code",
   "execution_count": 50,
   "id": "516e004d-1443-4e60-b0f2-052592f1a9b9",
   "metadata": {},
   "outputs": [],
   "source": [
    "# Defining the model\n",
    "ET_Model=ExtraTreesRegressor(n_estimators = 120)"
   ]
  },
  {
   "cell_type": "code",
   "execution_count": 51,
   "id": "39ec3e31-a00b-44d9-978a-99b1d5d0b40b",
   "metadata": {},
   "outputs": [
    {
     "data": {
      "text/plain": [
       "ExtraTreesRegressor(n_estimators=120)"
      ]
     },
     "execution_count": 51,
     "metadata": {},
     "output_type": "execute_result"
    }
   ],
   "source": [
    "# Fitting the model\n",
    "ET_Model.fit(X_train, y_train)"
   ]
  },
  {
   "cell_type": "code",
   "execution_count": 52,
   "id": "e7fa4a44-5ae9-4823-8466-c19875a37dda",
   "metadata": {},
   "outputs": [],
   "source": [
    "# Predicting test data using Extra Tree\n",
    "pred = ET_Model.predict(X_test)"
   ]
  },
  {
   "cell_type": "code",
   "execution_count": 53,
   "id": "a82757e9-0a14-4a92-916d-c9f365007277",
   "metadata": {},
   "outputs": [
    {
     "data": {
      "text/plain": [
       "(0.903883969773083, 0.018886444978632472)"
      ]
     },
     "execution_count": 53,
     "metadata": {},
     "output_type": "execute_result"
    }
   ],
   "source": [
    "# Finding r2 score and mean squared error for test data to check model's performance\n",
    "r2_score_test_et=r2_score(y_test,pred)\n",
    "mean_squared_error_test_et=mean_squared_error(y_test,pred)\n",
    "(r2_score_test_et,mean_squared_error_test_et)"
   ]
  },
  {
   "cell_type": "code",
   "execution_count": 54,
   "id": "85352391-f007-498f-8983-13b9fb90716f",
   "metadata": {},
   "outputs": [],
   "source": [
    "# Predicting train data using Extra Tree\n",
    "pred_train = ET_Model.predict(X_train)"
   ]
  },
  {
   "cell_type": "code",
   "execution_count": 55,
   "id": "46b1ba0e-5ac8-4b71-9b85-95d34f1da71f",
   "metadata": {},
   "outputs": [
    {
     "data": {
      "text/plain": [
       "(0.9994377527842341, 0.00010899658629680403)"
      ]
     },
     "execution_count": 55,
     "metadata": {},
     "output_type": "execute_result"
    }
   ],
   "source": [
    "# Finding r2 score and mean squared error for train data to check model's performance\n",
    "r2_score_train_et=r2_score(y_train,pred_train)\n",
    "mean_squared_error_train_et=mean_squared_error(y_train,pred_train)\n",
    "(r2_score_train_et,mean_squared_error_train_et)"
   ]
  },
  {
   "cell_type": "code",
   "execution_count": 56,
   "id": "5b5875ca-b88d-4535-8cb8-e605324a945b",
   "metadata": {},
   "outputs": [
    {
     "data": {
      "text/html": [
       "<div>\n",
       "<style scoped>\n",
       "    .dataframe tbody tr th:only-of-type {\n",
       "        vertical-align: middle;\n",
       "    }\n",
       "\n",
       "    .dataframe tbody tr th {\n",
       "        vertical-align: top;\n",
       "    }\n",
       "\n",
       "    .dataframe thead th {\n",
       "        text-align: right;\n",
       "    }\n",
       "</style>\n",
       "<table border=\"1\" class=\"dataframe\">\n",
       "  <thead>\n",
       "    <tr style=\"text-align: right;\">\n",
       "      <th></th>\n",
       "      <th>y_test</th>\n",
       "      <th>pred</th>\n",
       "    </tr>\n",
       "  </thead>\n",
       "  <tbody>\n",
       "    <tr>\n",
       "      <th>28627</th>\n",
       "      <td>2.9</td>\n",
       "      <td>2.924167</td>\n",
       "    </tr>\n",
       "    <tr>\n",
       "      <th>36449</th>\n",
       "      <td>4.2</td>\n",
       "      <td>4.189167</td>\n",
       "    </tr>\n",
       "    <tr>\n",
       "      <th>380</th>\n",
       "      <td>3.8</td>\n",
       "      <td>3.505000</td>\n",
       "    </tr>\n",
       "    <tr>\n",
       "      <th>28172</th>\n",
       "      <td>4.5</td>\n",
       "      <td>4.502500</td>\n",
       "    </tr>\n",
       "    <tr>\n",
       "      <th>19225</th>\n",
       "      <td>3.7</td>\n",
       "      <td>3.437500</td>\n",
       "    </tr>\n",
       "    <tr>\n",
       "      <th>...</th>\n",
       "      <td>...</td>\n",
       "      <td>...</td>\n",
       "    </tr>\n",
       "    <tr>\n",
       "      <th>7038</th>\n",
       "      <td>3.5</td>\n",
       "      <td>3.183750</td>\n",
       "    </tr>\n",
       "    <tr>\n",
       "      <th>46552</th>\n",
       "      <td>3.3</td>\n",
       "      <td>3.279167</td>\n",
       "    </tr>\n",
       "    <tr>\n",
       "      <th>34812</th>\n",
       "      <td>4.1</td>\n",
       "      <td>4.100000</td>\n",
       "    </tr>\n",
       "    <tr>\n",
       "      <th>44397</th>\n",
       "      <td>3.9</td>\n",
       "      <td>3.866667</td>\n",
       "    </tr>\n",
       "    <tr>\n",
       "      <th>36750</th>\n",
       "      <td>4.2</td>\n",
       "      <td>4.181667</td>\n",
       "    </tr>\n",
       "  </tbody>\n",
       "</table>\n",
       "<p>4134 rows × 2 columns</p>\n",
       "</div>"
      ],
      "text/plain": [
       "       y_test      pred\n",
       "28627     2.9  2.924167\n",
       "36449     4.2  4.189167\n",
       "380       3.8  3.505000\n",
       "28172     4.5  4.502500\n",
       "19225     3.7  3.437500\n",
       "...       ...       ...\n",
       "7038      3.5  3.183750\n",
       "46552     3.3  3.279167\n",
       "34812     4.1  4.100000\n",
       "44397     3.9  3.866667\n",
       "36750     4.2  4.181667\n",
       "\n",
       "[4134 rows x 2 columns]"
      ]
     },
     "execution_count": 56,
     "metadata": {},
     "output_type": "execute_result"
    }
   ],
   "source": [
    "# Comparing actual and predicted values\n",
    "df1=pd.DataFrame({\"y_test\" : y_test,\"pred\":pred})\n",
    "df1"
   ]
  },
  {
   "cell_type": "code",
   "execution_count": 57,
   "id": "0a7fd91e-78c3-414b-aaed-6c8ebfb34ea8",
   "metadata": {},
   "outputs": [
    {
     "data": {
      "text/plain": [
       "(4.89999999999999, 2.0)"
      ]
     },
     "execution_count": 57,
     "metadata": {},
     "output_type": "execute_result"
    }
   ],
   "source": [
    "# Verifying for the predicted values to be in expected range\n",
    "(df1.pred.max(),df1.pred.min())"
   ]
  },
  {
   "cell_type": "markdown",
   "id": "8b01357f-5d9d-4c76-bf49-ba3e26a7a500",
   "metadata": {},
   "source": [
    "#### 3. Training and Testing with Random Forest Regressor"
   ]
  },
  {
   "cell_type": "code",
   "execution_count": 58,
   "id": "9c84ba8c-447f-4baa-bc62-3bf6cb1fadf6",
   "metadata": {},
   "outputs": [],
   "source": [
    "# Importing the model\n",
    "from sklearn.ensemble import RandomForestRegressor"
   ]
  },
  {
   "cell_type": "code",
   "execution_count": 59,
   "id": "788cb875-eda0-4d17-9383-bba54b3cab42",
   "metadata": {},
   "outputs": [],
   "source": [
    "# Defining the model\n",
    "RF_Model = RandomForestRegressor(n_estimators = 120, random_state = 0)"
   ]
  },
  {
   "cell_type": "code",
   "execution_count": 60,
   "id": "87abc71a-24a4-4afb-b50b-a2eb49b76769",
   "metadata": {},
   "outputs": [
    {
     "data": {
      "text/plain": [
       "RandomForestRegressor(n_estimators=120, random_state=0)"
      ]
     },
     "execution_count": 60,
     "metadata": {},
     "output_type": "execute_result"
    }
   ],
   "source": [
    "# Fitting the model\n",
    "RF_Model.fit(X_train, y_train)"
   ]
  },
  {
   "cell_type": "code",
   "execution_count": 61,
   "id": "d40eb786-e174-4251-8a4a-ee371b286a29",
   "metadata": {},
   "outputs": [],
   "source": [
    "# Predicting test data using Random Forest\n",
    "pred = RF_Model.predict(X_test)"
   ]
  },
  {
   "cell_type": "code",
   "execution_count": 62,
   "id": "ad50cbbb-46bd-4037-aa0c-9d89198cb0ee",
   "metadata": {},
   "outputs": [
    {
     "data": {
      "text/plain": [
       "(0.9035431797423352, 0.018953408961121028)"
      ]
     },
     "execution_count": 62,
     "metadata": {},
     "output_type": "execute_result"
    }
   ],
   "source": [
    "# Finding r2 score and mean squared error for test data to check model's performance\n",
    "r2_score_test_rf=r2_score(y_test,pred)\n",
    "mean_squared_error_test_rf=mean_squared_error(y_test,pred)\n",
    "(r2_score_test_rf,mean_squared_error_test_rf)"
   ]
  },
  {
   "cell_type": "code",
   "execution_count": 63,
   "id": "896e3523-ff29-40c4-bbae-27e8f9fa44db",
   "metadata": {},
   "outputs": [],
   "source": [
    "# Predicting train data using Random Forest\n",
    "pred_train = RF_Model.predict(X_train)"
   ]
  },
  {
   "cell_type": "code",
   "execution_count": 64,
   "id": "6c9c49d8-ae78-40da-9f3d-f4a7f3612772",
   "metadata": {},
   "outputs": [
    {
     "data": {
      "text/plain": [
       "(0.98594962110772, 0.002723789985067553)"
      ]
     },
     "execution_count": 64,
     "metadata": {},
     "output_type": "execute_result"
    }
   ],
   "source": [
    "# Finding r2 score and mean squared error for train data to check model's performance\n",
    "r2_score_train_rf=r2_score(y_train,pred_train)\n",
    "mean_squared_error_train_rf=mean_squared_error(y_train,pred_train)\n",
    "(r2_score_train_rf,mean_squared_error_train_rf)"
   ]
  },
  {
   "cell_type": "code",
   "execution_count": 65,
   "id": "feb236ed-054d-4e85-968d-fdabcab9ba14",
   "metadata": {},
   "outputs": [
    {
     "data": {
      "text/html": [
       "<div>\n",
       "<style scoped>\n",
       "    .dataframe tbody tr th:only-of-type {\n",
       "        vertical-align: middle;\n",
       "    }\n",
       "\n",
       "    .dataframe tbody tr th {\n",
       "        vertical-align: top;\n",
       "    }\n",
       "\n",
       "    .dataframe thead th {\n",
       "        text-align: right;\n",
       "    }\n",
       "</style>\n",
       "<table border=\"1\" class=\"dataframe\">\n",
       "  <thead>\n",
       "    <tr style=\"text-align: right;\">\n",
       "      <th></th>\n",
       "      <th>y_test</th>\n",
       "      <th>pred</th>\n",
       "    </tr>\n",
       "  </thead>\n",
       "  <tbody>\n",
       "    <tr>\n",
       "      <th>28627</th>\n",
       "      <td>2.9</td>\n",
       "      <td>2.910000</td>\n",
       "    </tr>\n",
       "    <tr>\n",
       "      <th>36449</th>\n",
       "      <td>4.2</td>\n",
       "      <td>4.172500</td>\n",
       "    </tr>\n",
       "    <tr>\n",
       "      <th>380</th>\n",
       "      <td>3.8</td>\n",
       "      <td>3.615833</td>\n",
       "    </tr>\n",
       "    <tr>\n",
       "      <th>28172</th>\n",
       "      <td>4.5</td>\n",
       "      <td>4.497500</td>\n",
       "    </tr>\n",
       "    <tr>\n",
       "      <th>19225</th>\n",
       "      <td>3.7</td>\n",
       "      <td>3.235000</td>\n",
       "    </tr>\n",
       "    <tr>\n",
       "      <th>...</th>\n",
       "      <td>...</td>\n",
       "      <td>...</td>\n",
       "    </tr>\n",
       "    <tr>\n",
       "      <th>7038</th>\n",
       "      <td>3.5</td>\n",
       "      <td>3.245833</td>\n",
       "    </tr>\n",
       "    <tr>\n",
       "      <th>46552</th>\n",
       "      <td>3.3</td>\n",
       "      <td>3.231667</td>\n",
       "    </tr>\n",
       "    <tr>\n",
       "      <th>34812</th>\n",
       "      <td>4.1</td>\n",
       "      <td>4.102500</td>\n",
       "    </tr>\n",
       "    <tr>\n",
       "      <th>44397</th>\n",
       "      <td>3.9</td>\n",
       "      <td>3.871667</td>\n",
       "    </tr>\n",
       "    <tr>\n",
       "      <th>36750</th>\n",
       "      <td>4.2</td>\n",
       "      <td>4.192500</td>\n",
       "    </tr>\n",
       "  </tbody>\n",
       "</table>\n",
       "<p>4134 rows × 2 columns</p>\n",
       "</div>"
      ],
      "text/plain": [
       "       y_test      pred\n",
       "28627     2.9  2.910000\n",
       "36449     4.2  4.172500\n",
       "380       3.8  3.615833\n",
       "28172     4.5  4.497500\n",
       "19225     3.7  3.235000\n",
       "...       ...       ...\n",
       "7038      3.5  3.245833\n",
       "46552     3.3  3.231667\n",
       "34812     4.1  4.102500\n",
       "44397     3.9  3.871667\n",
       "36750     4.2  4.192500\n",
       "\n",
       "[4134 rows x 2 columns]"
      ]
     },
     "execution_count": 65,
     "metadata": {},
     "output_type": "execute_result"
    }
   ],
   "source": [
    "# Comparing actual and predicted values\n",
    "df2 = pd.DataFrame({\"y_test\" : y_test,\"pred\":pred})\n",
    "df2"
   ]
  },
  {
   "cell_type": "code",
   "execution_count": 66,
   "id": "90accd16-3579-4969-a3f0-9e861d4f89ec",
   "metadata": {},
   "outputs": [
    {
     "data": {
      "text/plain": [
       "(4.89999999999999, 2.1866666666666665)"
      ]
     },
     "execution_count": 66,
     "metadata": {},
     "output_type": "execute_result"
    }
   ],
   "source": [
    "# Verifying for the predicted values to be in expected range\n",
    "(df2.pred.max(),df2.pred.min())"
   ]
  },
  {
   "cell_type": "markdown",
   "id": "86f3cf16-7563-4160-9c1c-bf2500ed8e7d",
   "metadata": {},
   "source": [
    "### Comparing the three models"
   ]
  },
  {
   "cell_type": "code",
   "execution_count": 67,
   "id": "8caa8d4d-ddee-4b85-9e5e-493a415ad7ca",
   "metadata": {},
   "outputs": [],
   "source": [
    "#Comparing models\n",
    "model_comparison=pd.DataFrame({'Models':['Xgboost','Extra Tree','Random Forest'],\n",
    "                'r2_score_train':[r2_score_train_xg,r2_score_train_et,r2_score_train_rf],\n",
    "                'mean_squared_error_train':[mean_squared_error_train_xg,mean_squared_error_train_et,mean_squared_error_train_rf],\n",
    "                'r2_score_test':[r2_score_test_xg,r2_score_test_et,r2_score_test_rf],\n",
    "                'mean_squared_error_test':[mean_squared_error_test_xg,mean_squared_error_test_et,mean_squared_error_test_rf]})"
   ]
  },
  {
   "cell_type": "code",
   "execution_count": 68,
   "id": "879b7661-d916-40d4-a9bf-9740849b1c9c",
   "metadata": {},
   "outputs": [
    {
     "data": {
      "text/html": [
       "<div>\n",
       "<style scoped>\n",
       "    .dataframe tbody tr th:only-of-type {\n",
       "        vertical-align: middle;\n",
       "    }\n",
       "\n",
       "    .dataframe tbody tr th {\n",
       "        vertical-align: top;\n",
       "    }\n",
       "\n",
       "    .dataframe thead th {\n",
       "        text-align: right;\n",
       "    }\n",
       "</style>\n",
       "<table border=\"1\" class=\"dataframe\">\n",
       "  <thead>\n",
       "    <tr style=\"text-align: right;\">\n",
       "      <th></th>\n",
       "      <th>Models</th>\n",
       "      <th>r2_score_train</th>\n",
       "      <th>mean_squared_error_train</th>\n",
       "      <th>r2_score_test</th>\n",
       "      <th>mean_squared_error_test</th>\n",
       "    </tr>\n",
       "  </thead>\n",
       "  <tbody>\n",
       "    <tr>\n",
       "      <th>0</th>\n",
       "      <td>Xgboost</td>\n",
       "      <td>0.782638</td>\n",
       "      <td>0.042137</td>\n",
       "      <td>0.735184</td>\n",
       "      <td>0.052035</td>\n",
       "    </tr>\n",
       "    <tr>\n",
       "      <th>1</th>\n",
       "      <td>Extra Tree</td>\n",
       "      <td>0.999438</td>\n",
       "      <td>0.000109</td>\n",
       "      <td>0.903884</td>\n",
       "      <td>0.018886</td>\n",
       "    </tr>\n",
       "    <tr>\n",
       "      <th>2</th>\n",
       "      <td>Random Forest</td>\n",
       "      <td>0.985950</td>\n",
       "      <td>0.002724</td>\n",
       "      <td>0.903543</td>\n",
       "      <td>0.018953</td>\n",
       "    </tr>\n",
       "  </tbody>\n",
       "</table>\n",
       "</div>"
      ],
      "text/plain": [
       "          Models  r2_score_train  mean_squared_error_train  r2_score_test  \\\n",
       "0        Xgboost        0.782638                  0.042137       0.735184   \n",
       "1     Extra Tree        0.999438                  0.000109       0.903884   \n",
       "2  Random Forest        0.985950                  0.002724       0.903543   \n",
       "\n",
       "   mean_squared_error_test  \n",
       "0                 0.052035  \n",
       "1                 0.018886  \n",
       "2                 0.018953  "
      ]
     },
     "execution_count": 68,
     "metadata": {},
     "output_type": "execute_result"
    }
   ],
   "source": [
    "model_comparison"
   ]
  },
  {
   "cell_type": "markdown",
   "id": "18edfe99-5038-42ec-9024-098b7a830302",
   "metadata": {},
   "source": [
    "##### As we can see from the performance of all the three models, Random Forest is the best model for our dataset as its r2 score for the test data is highest"
   ]
  },
  {
   "cell_type": "markdown",
   "id": "0d5e667e-e5cd-40c0-87a5-8209c6120160",
   "metadata": {},
   "source": [
    "### Saving Random forest Regressor"
   ]
  },
  {
   "cell_type": "code",
   "execution_count": 69,
   "id": "0a00a14a-fb7b-475c-a9e1-8528f066c80c",
   "metadata": {},
   "outputs": [],
   "source": [
    "import pickle"
   ]
  },
  {
   "cell_type": "code",
   "execution_count": 70,
   "id": "5ea2622d-e304-40bc-8615-2671b95cc88a",
   "metadata": {},
   "outputs": [
    {
     "name": "stdout",
     "output_type": "stream",
     "text": [
      "0.9035431797423352\n"
     ]
    }
   ],
   "source": [
    "# Saving the model\n",
    "model_file = open(\"C:\\\\Users\\\\HP\\\\saves\\\\best_model.sav\", 'wb') \n",
    "pickle.dump(RF_Model, model_file)\n",
    "model_file.close()\n",
    "loaded_RF_Model = pickle.load(open(\"C:\\\\Users\\\\HP\\\\saves\\\\best_model.sav\", 'rb'))\n",
    "result = loaded_RF_Model.score(X_test, y_test)\n",
    "print(result)"
   ]
  },
  {
   "cell_type": "code",
   "execution_count": 71,
   "id": "6a08c4d8-0630-4f33-be94-44e4050f4537",
   "metadata": {},
   "outputs": [],
   "source": [
    "pred = loaded_RF_Model.predict(X_test)"
   ]
  },
  {
   "cell_type": "code",
   "execution_count": 72,
   "id": "a59f2ef7-43af-4b11-82d1-c4f0a9b6a58e",
   "metadata": {},
   "outputs": [
    {
     "data": {
      "text/plain": [
       "0.9035431797423352"
      ]
     },
     "execution_count": 72,
     "metadata": {},
     "output_type": "execute_result"
    }
   ],
   "source": [
    "# Verifying the r2 score with saved model\n",
    "r2_score(y_test,pred)"
   ]
  },
  {
   "cell_type": "code",
   "execution_count": 73,
   "id": "82b75956-4584-4cb0-b9c1-4337a3954dd3",
   "metadata": {},
   "outputs": [],
   "source": [
    "# Saving encodes for column book_table\n",
    "encoder_file= open(\"C:\\\\Users\\\\HP\\\\saves\\\\encoder_book_table.sav\", 'wb')\n",
    "pickle.dump(encoder_book_table, encoder_file)\n",
    "encoder_file.close()"
   ]
  },
  {
   "cell_type": "code",
   "execution_count": 74,
   "id": "3e1cd2eb-2bc0-4725-9fbc-f8cbf57e7ce6",
   "metadata": {},
   "outputs": [],
   "source": [
    "# Saving encodes for column city\n",
    "encoder_file= open(\"C:\\\\Users\\\\HP\\\\saves\\\\encoder_city.sav\", 'wb')\n",
    "pickle.dump(encoder_city, encoder_file)\n",
    "encoder_file.close()"
   ]
  },
  {
   "cell_type": "code",
   "execution_count": 75,
   "id": "bcdb8e33-c364-49c4-bf57-82672d6edcff",
   "metadata": {},
   "outputs": [],
   "source": [
    "# Saving encodes for column cuisines\n",
    "encoder_file= open(\"C:\\\\Users\\\\HP\\\\saves\\\\encoder_cuisines.sav\", 'wb')\n",
    "pickle.dump(encoder_cuisines, encoder_file)\n",
    "encoder_file.close()"
   ]
  },
  {
   "cell_type": "code",
   "execution_count": 76,
   "id": "563197c4-b488-4e07-bb04-8c6bc8974f4f",
   "metadata": {},
   "outputs": [],
   "source": [
    "# Saving encodes for column online_order\n",
    "encoder_file= open(\"C:\\\\Users\\\\HP\\\\saves\\\\encoder_online_order.sav\", 'wb')\n",
    "pickle.dump(encoder_online_order, encoder_file)\n",
    "encoder_file.close()"
   ]
  },
  {
   "cell_type": "code",
   "execution_count": 77,
   "id": "f8763ba9-2a60-41f2-abf9-e71db7067e0b",
   "metadata": {},
   "outputs": [],
   "source": [
    "# Saving encodes for column rest_type\n",
    "encoder_file= open(\"C:\\\\Users\\\\HP\\\\saves\\\\encoder_rest_type.sav\", 'wb')\n",
    "pickle.dump(encoder_rest_type, encoder_file)\n",
    "encoder_file.close()"
   ]
  },
  {
   "cell_type": "markdown",
   "id": "38368065-922c-434d-a55d-b685d4cc356c",
   "metadata": {},
   "source": [
    "### Calculating Approximate Latency for Model"
   ]
  },
  {
   "cell_type": "code",
   "execution_count": 78,
   "id": "6023d31f-dbd1-4d01-9e82-63628db91c49",
   "metadata": {},
   "outputs": [],
   "source": [
    "import time "
   ]
  },
  {
   "cell_type": "code",
   "execution_count": 79,
   "id": "1d5d7543-9f48-4466-807f-565d59f21124",
   "metadata": {},
   "outputs": [
    {
     "data": {
      "text/plain": [
       "4134"
      ]
     },
     "execution_count": 79,
     "metadata": {},
     "output_type": "execute_result"
    }
   ],
   "source": [
    "# Length of test data\n",
    "l = len(X_test)\n",
    "l"
   ]
  },
  {
   "cell_type": "code",
   "execution_count": 80,
   "id": "3b9b6290-723b-48bd-858d-3b98f822bba7",
   "metadata": {},
   "outputs": [
    {
     "name": "stdout",
     "output_type": "stream",
     "text": [
      "[0.16954565048217773, 0.1376664638519287, 0.14560937881469727, 0.13659954071044922, 0.13763165473937988, 0.13663673400878906, 0.13762974739074707, 0.154587984085083, 0.17105460166931152, 0.17154550552368164]\n"
     ]
    }
   ],
   "source": [
    "# Measuring response time of model \n",
    "pred_time_list=[]\n",
    "for i in range(10): \n",
    "    start = time.time() \n",
    "    result = RF_Model.predict(X_test)\n",
    "    end = time.time()\n",
    "    pred_time_list.append(end-start)\n",
    "print(pred_time_list) "
   ]
  },
  {
   "cell_type": "markdown",
   "id": "d461cb3b-468c-46cf-b9a7-a6fcb0ecc7b1",
   "metadata": {},
   "source": [
    "##### We measured the response time of our model 10 times for better results. We will now took the average of all the 10 response times and will divide it by length of test data in order to get response time for a particular input"
   ]
  },
  {
   "cell_type": "code",
   "execution_count": 81,
   "id": "35d326b1-564b-4b70-a2c3-eed73ef61c87",
   "metadata": {},
   "outputs": [],
   "source": [
    "# Measuring response time of model for a particular input\n",
    "latency = pd.Series(pred_time_list).mean()/l"
   ]
  },
  {
   "cell_type": "code",
   "execution_count": 82,
   "id": "91f43d96-b09c-4bc9-b68a-2bcfbfd881f9",
   "metadata": {},
   "outputs": [
    {
     "data": {
      "text/plain": [
       "3.6248361424195574e-05"
      ]
     },
     "execution_count": 82,
     "metadata": {},
     "output_type": "execute_result"
    }
   ],
   "source": [
    "latency"
   ]
  },
  {
   "cell_type": "markdown",
   "id": "472d784f-9c68-4826-b831-6853ae3827c3",
   "metadata": {},
   "source": [
    "##### The response time of our model for a particular input of dataset came out to be "
   ]
  },
  {
   "cell_type": "code",
   "execution_count": null,
   "id": "b6e3ac46-bc14-4d36-aa8f-c5248e8ae84d",
   "metadata": {},
   "outputs": [],
   "source": []
  },
  {
   "cell_type": "code",
   "execution_count": null,
   "id": "4f77c86f",
   "metadata": {},
   "outputs": [],
   "source": []
  },
  {
   "cell_type": "code",
   "execution_count": null,
   "id": "d0d1833f",
   "metadata": {},
   "outputs": [],
   "source": []
  },
  {
   "cell_type": "code",
   "execution_count": null,
   "id": "e526f1f1",
   "metadata": {},
   "outputs": [],
   "source": []
  },
  {
   "cell_type": "code",
   "execution_count": null,
   "id": "7c7c006f",
   "metadata": {},
   "outputs": [],
   "source": []
  },
  {
   "cell_type": "code",
   "execution_count": null,
   "id": "595254be",
   "metadata": {},
   "outputs": [],
   "source": []
  }
 ],
 "metadata": {
  "kernelspec": {
   "display_name": "Python 3 (ipykernel)",
   "language": "python",
   "name": "python3"
  },
  "language_info": {
   "codemirror_mode": {
    "name": "ipython",
    "version": 3
   },
   "file_extension": ".py",
   "mimetype": "text/x-python",
   "name": "python",
   "nbconvert_exporter": "python",
   "pygments_lexer": "ipython3",
   "version": "3.9.12"
  }
 },
 "nbformat": 4,
 "nbformat_minor": 5
}
